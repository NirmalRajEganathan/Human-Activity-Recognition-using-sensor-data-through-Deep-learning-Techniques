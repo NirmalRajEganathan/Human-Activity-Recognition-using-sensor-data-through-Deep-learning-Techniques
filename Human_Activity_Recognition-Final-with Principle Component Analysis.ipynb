{
 "cells": [
  {
   "cell_type": "markdown",
   "metadata": {},
   "source": [
    "<div class=\"alert alert-block alert-info\" align=left><b></b>\n",
    "Human Activity Recognition"
   ]
  },
  {
   "cell_type": "code",
   "execution_count": 1,
   "metadata": {},
   "outputs": [],
   "source": [
    "import pandas as pd\n",
    "import numpy as np\n",
    "import matplotlib.pyplot as plt\n",
    "plt.style.use('ggplot')\n",
    "%matplotlib inline\n",
    "import seaborn as sns\n",
    "import os"
   ]
  },
  {
   "cell_type": "code",
   "execution_count": 2,
   "metadata": {},
   "outputs": [],
   "source": [
    "os.chdir(\"C:/Users/Nirmal Raj/Downloads/Class_sudeshna Sarkar/Intern insofe/UCI HAR Dataset/UCI HAR Dataset/Files\")"
   ]
  },
  {
   "cell_type": "code",
   "execution_count": 3,
   "metadata": {},
   "outputs": [
    {
     "data": {
      "text/plain": [
       "'C:\\\\Users\\\\Nirmal Raj\\\\Downloads\\\\Class_sudeshna Sarkar\\\\Intern insofe\\\\UCI HAR Dataset\\\\UCI HAR Dataset\\\\Files'"
      ]
     },
     "execution_count": 3,
     "metadata": {},
     "output_type": "execute_result"
    }
   ],
   "source": [
    "os.getcwd()"
   ]
  },
  {
   "cell_type": "code",
   "execution_count": 4,
   "metadata": {
    "scrolled": false
   },
   "outputs": [],
   "source": [
    "data = pd.read_csv('X_train.txt',sep = \"\\t\",header = None)\n",
    "data1 = pd.read_csv('y_train.txt',sep = \"\\t\",header = None)\n",
    "data2 = pd.read_csv('X_test.txt',sep = \"\\t\",header = None)\n",
    "data3 = pd.read_csv('y_test.txt',sep = \"\\t\",header = None)\n",
    "#subject_train  = pd.read_csv('subject_train.txt',header = None)\n",
    "#subject_test = pd.read_csv('subject_test.txt',header = None)"
   ]
  },
  {
   "cell_type": "code",
   "execution_count": 5,
   "metadata": {},
   "outputs": [],
   "source": [
    "X_tra = [[float(number) for number in data[0].iloc[line].split()] for line in range(len(data))]\n",
    "X_te = [[float(number) for number in data2[0].iloc[line].split()] for line in range(len(data2))]\n",
    "X_tr = pd.DataFrame(X_tra)\n",
    "X_ts = pd.DataFrame(X_te)"
   ]
  },
  {
   "cell_type": "code",
   "execution_count": 6,
   "metadata": {},
   "outputs": [],
   "source": [
    "features = pd.read_csv('features.txt',sep = \"\\t\",header = None)\n",
    "features['col_name'] = str(0)\n",
    "for i in range(len(features)):\n",
    "    words = features[0].iloc[i].split()\n",
    "    features['col_name'].iloc[i] = words[1]"
   ]
  },
  {
   "cell_type": "code",
   "execution_count": 7,
   "metadata": {},
   "outputs": [],
   "source": [
    "Features = features.drop([0], axis=1)"
   ]
  },
  {
   "cell_type": "code",
   "execution_count": 8,
   "metadata": {},
   "outputs": [
    {
     "name": "stdout",
     "output_type": "stream",
     "text": [
      "X_train :  (7352, 561)\n",
      "X_test :  (2947, 561)\n"
     ]
    }
   ],
   "source": [
    "X_tr.columns = X_tr.columns[:0].tolist() + Features['col_name'].values.tolist()\n",
    "X_ts.columns = X_ts.columns[:0].tolist() + Features['col_name'].values.tolist()\n",
    "X_train = X_tr\n",
    "X_test = X_ts\n",
    "print(\"X_train : \",X_train.shape)\n",
    "print(\"X_test : \",X_test.shape)"
   ]
  },
  {
   "cell_type": "code",
   "execution_count": 9,
   "metadata": {},
   "outputs": [
    {
     "name": "stdout",
     "output_type": "stream",
     "text": [
      "y_train :  (7352, 1)\n",
      "y_test :  (2947, 1)\n"
     ]
    }
   ],
   "source": [
    "y_train = data1.rename(columns = {0:\"Activity\"})\n",
    "y_test = data3.rename(columns = {0:\"Activity\"})\n",
    "print(\"y_train : \",y_train.shape)\n",
    "print(\"y_test : \",y_test.shape)"
   ]
  },
  {
   "cell_type": "code",
   "execution_count": 10,
   "metadata": {},
   "outputs": [
    {
     "name": "stdout",
     "output_type": "stream",
     "text": [
      "X_train :  (7352, 561)\n",
      "X_test :  (2947, 561)\n",
      "y_train :  (7352, 1)\n",
      "y_test :  (2947, 1)\n"
     ]
    }
   ],
   "source": [
    "# sub_train = subject_train.rename(columns = {0:'Subject'})\n",
    "# sub_test = subject_test.rename(columns = {0:'Subject'})\n",
    "# X_train['Subject'] = sub_train\n",
    "# X_test['Subject'] = sub_test\n",
    "print(\"X_train : \",X_train.shape)\n",
    "print(\"X_test : \",X_test.shape)\n",
    "print(\"y_train : \",y_train.shape)\n",
    "print(\"y_test : \",y_test.shape)"
   ]
  },
  {
   "cell_type": "code",
   "execution_count": 11,
   "metadata": {},
   "outputs": [],
   "source": [
    "y_train.Activity.replace([1,2,3,4,5,6],['WALKING','WALKING_UPSTAIRS','WALKING_DOWNSTAIRS','SITTING','STANDING','LAYING'],inplace=True)\n",
    "y_test.Activity.replace([1,2,3,4,5,6],['WALKING','WALKING_UPSTAIRS','WALKING_DOWNSTAIRS','SITTING','STANDING','LAYING'],inplace=True)"
   ]
  },
  {
   "cell_type": "code",
   "execution_count": 12,
   "metadata": {},
   "outputs": [],
   "source": [
    "train = pd.concat([X_train,y_train],axis = 1)\n",
    "test = pd.concat([X_test,y_test],axis = 1)"
   ]
  },
  {
   "cell_type": "code",
   "execution_count": 13,
   "metadata": {},
   "outputs": [
    {
     "name": "stdout",
     "output_type": "stream",
     "text": [
      "Train Shape :  (7352, 562)\n",
      "Test Shape :  (2947, 562)\n"
     ]
    }
   ],
   "source": [
    "print('Train Shape : ',train.shape)\n",
    "print('Test Shape : ',test.shape)"
   ]
  },
  {
   "cell_type": "code",
   "execution_count": 14,
   "metadata": {},
   "outputs": [
    {
     "name": "stdout",
     "output_type": "stream",
     "text": [
      "<class 'pandas.core.frame.DataFrame'>\n",
      "RangeIndex: 7352 entries, 0 to 7351\n",
      "Columns: 562 entries, tBodyAcc-mean()-X to Activity\n",
      "dtypes: float64(561), object(1)\n",
      "memory usage: 31.5+ MB\n"
     ]
    }
   ],
   "source": [
    "train.info()"
   ]
  },
  {
   "cell_type": "code",
   "execution_count": 15,
   "metadata": {},
   "outputs": [
    {
     "data": {
      "text/plain": [
       "count       7352\n",
       "unique         6\n",
       "top       LAYING\n",
       "freq        1407\n",
       "Name: Activity, dtype: object"
      ]
     },
     "execution_count": 15,
     "metadata": {},
     "output_type": "execute_result"
    }
   ],
   "source": [
    "train['Activity'].describe()"
   ]
  },
  {
   "cell_type": "code",
   "execution_count": 16,
   "metadata": {},
   "outputs": [
    {
     "data": {
      "image/png": "[encoded data removed]",
      "text/plain": [
       "<Figure size 432x288 with 1 Axes>"
      ]
     },
     "metadata": {
      "needs_background": "light"
     },
     "output_type": "display_data"
    }
   ],
   "source": [
    "ax = sns.countplot(y = train['Activity'])\n",
    "ax.set_title('Distribution of Labels')\n",
    "plt.show()"
   ]
  },
  {
   "cell_type": "code",
   "execution_count": 17,
   "metadata": {},
   "outputs": [
    {
     "data": {
      "text/html": [
       "<div>\n",
       "<style scoped>\n",
       "    .dataframe tbody tr th:only-of-type {\n",
       "        vertical-align: middle;\n",
       "    }\n",
       "\n",
       "    .dataframe tbody tr th {\n",
       "        vertical-align: top;\n",
       "    }\n",
       "\n",
       "    .dataframe thead th {\n",
       "        text-align: right;\n",
       "    }\n",
       "</style>\n",
       "<table border=\"1\" class=\"dataframe\">\n",
       "  <thead>\n",
       "    <tr style=\"text-align: right;\">\n",
       "      <th></th>\n",
       "      <th>tBodyAcc-mean()-X</th>\n",
       "      <th>tBodyAcc-mean()-Y</th>\n",
       "      <th>tBodyAcc-mean()-Z</th>\n",
       "      <th>tBodyAcc-std()-X</th>\n",
       "      <th>tBodyAcc-std()-Y</th>\n",
       "      <th>tBodyAcc-std()-Z</th>\n",
       "      <th>tBodyAcc-mad()-X</th>\n",
       "      <th>tBodyAcc-mad()-Y</th>\n",
       "      <th>tBodyAcc-mad()-Z</th>\n",
       "      <th>tBodyAcc-max()-X</th>\n",
       "      <th>...</th>\n",
       "      <th>fBodyBodyGyroJerkMag-skewness()</th>\n",
       "      <th>fBodyBodyGyroJerkMag-kurtosis()</th>\n",
       "      <th>angle(tBodyAccMean,gravity)</th>\n",
       "      <th>angle(tBodyAccJerkMean),gravityMean)</th>\n",
       "      <th>angle(tBodyGyroMean,gravityMean)</th>\n",
       "      <th>angle(tBodyGyroJerkMean,gravityMean)</th>\n",
       "      <th>angle(X,gravityMean)</th>\n",
       "      <th>angle(Y,gravityMean)</th>\n",
       "      <th>angle(Z,gravityMean)</th>\n",
       "      <th>Activity</th>\n",
       "    </tr>\n",
       "  </thead>\n",
       "  <tbody>\n",
       "    <tr>\n",
       "      <th>0</th>\n",
       "      <td>0.288585</td>\n",
       "      <td>-0.020294</td>\n",
       "      <td>-0.132905</td>\n",
       "      <td>-0.995279</td>\n",
       "      <td>-0.983111</td>\n",
       "      <td>-0.913526</td>\n",
       "      <td>-0.995112</td>\n",
       "      <td>-0.983185</td>\n",
       "      <td>-0.923527</td>\n",
       "      <td>-0.934724</td>\n",
       "      <td>...</td>\n",
       "      <td>-0.298676</td>\n",
       "      <td>-0.710304</td>\n",
       "      <td>-0.112754</td>\n",
       "      <td>0.030400</td>\n",
       "      <td>-0.464761</td>\n",
       "      <td>-0.018446</td>\n",
       "      <td>-0.841247</td>\n",
       "      <td>0.179941</td>\n",
       "      <td>-0.058627</td>\n",
       "      <td>STANDING</td>\n",
       "    </tr>\n",
       "    <tr>\n",
       "      <th>1</th>\n",
       "      <td>0.278419</td>\n",
       "      <td>-0.016411</td>\n",
       "      <td>-0.123520</td>\n",
       "      <td>-0.998245</td>\n",
       "      <td>-0.975300</td>\n",
       "      <td>-0.960322</td>\n",
       "      <td>-0.998807</td>\n",
       "      <td>-0.974914</td>\n",
       "      <td>-0.957686</td>\n",
       "      <td>-0.943068</td>\n",
       "      <td>...</td>\n",
       "      <td>-0.595051</td>\n",
       "      <td>-0.861499</td>\n",
       "      <td>0.053477</td>\n",
       "      <td>-0.007435</td>\n",
       "      <td>-0.732626</td>\n",
       "      <td>0.703511</td>\n",
       "      <td>-0.844788</td>\n",
       "      <td>0.180289</td>\n",
       "      <td>-0.054317</td>\n",
       "      <td>STANDING</td>\n",
       "    </tr>\n",
       "    <tr>\n",
       "      <th>2</th>\n",
       "      <td>0.279653</td>\n",
       "      <td>-0.019467</td>\n",
       "      <td>-0.113462</td>\n",
       "      <td>-0.995380</td>\n",
       "      <td>-0.967187</td>\n",
       "      <td>-0.978944</td>\n",
       "      <td>-0.996520</td>\n",
       "      <td>-0.963668</td>\n",
       "      <td>-0.977469</td>\n",
       "      <td>-0.938692</td>\n",
       "      <td>...</td>\n",
       "      <td>-0.390748</td>\n",
       "      <td>-0.760104</td>\n",
       "      <td>-0.118559</td>\n",
       "      <td>0.177899</td>\n",
       "      <td>0.100699</td>\n",
       "      <td>0.808529</td>\n",
       "      <td>-0.848933</td>\n",
       "      <td>0.180637</td>\n",
       "      <td>-0.049118</td>\n",
       "      <td>STANDING</td>\n",
       "    </tr>\n",
       "  </tbody>\n",
       "</table>\n",
       "<p>3 rows × 562 columns</p>\n",
       "</div>"
      ],
      "text/plain": [
       "   tBodyAcc-mean()-X  tBodyAcc-mean()-Y  tBodyAcc-mean()-Z  tBodyAcc-std()-X  \\\n",
       "0           0.288585          -0.020294          -0.132905         -0.995279   \n",
       "1           0.278419          -0.016411          -0.123520         -0.998245   \n",
       "2           0.279653          -0.019467          -0.113462         -0.995380   \n",
       "\n",
       "   tBodyAcc-std()-Y  tBodyAcc-std()-Z  tBodyAcc-mad()-X  tBodyAcc-mad()-Y  \\\n",
       "0         -0.983111         -0.913526         -0.995112         -0.983185   \n",
       "1         -0.975300         -0.960322         -0.998807         -0.974914   \n",
       "2         -0.967187         -0.978944         -0.996520         -0.963668   \n",
       "\n",
       "   tBodyAcc-mad()-Z  tBodyAcc-max()-X  ...  fBodyBodyGyroJerkMag-skewness()  \\\n",
       "0         -0.923527         -0.934724  ...                        -0.298676   \n",
       "1         -0.957686         -0.943068  ...                        -0.595051   \n",
       "2         -0.977469         -0.938692  ...                        -0.390748   \n",
       "\n",
       "   fBodyBodyGyroJerkMag-kurtosis()  angle(tBodyAccMean,gravity)  \\\n",
       "0                        -0.710304                    -0.112754   \n",
       "1                        -0.861499                     0.053477   \n",
       "2                        -0.760104                    -0.118559   \n",
       "\n",
       "   angle(tBodyAccJerkMean),gravityMean)  angle(tBodyGyroMean,gravityMean)  \\\n",
       "0                              0.030400                         -0.464761   \n",
       "1                             -0.007435                         -0.732626   \n",
       "2                              0.177899                          0.100699   \n",
       "\n",
       "   angle(tBodyGyroJerkMean,gravityMean)  angle(X,gravityMean)  \\\n",
       "0                             -0.018446             -0.841247   \n",
       "1                              0.703511             -0.844788   \n",
       "2                              0.808529             -0.848933   \n",
       "\n",
       "   angle(Y,gravityMean)  angle(Z,gravityMean)  Activity  \n",
       "0              0.179941             -0.058627  STANDING  \n",
       "1              0.180289             -0.054317  STANDING  \n",
       "2              0.180637             -0.049118  STANDING  \n",
       "\n",
       "[3 rows x 562 columns]"
      ]
     },
     "execution_count": 17,
     "metadata": {},
     "output_type": "execute_result"
    }
   ],
   "source": [
    "train.head(3)"
   ]
  },
  {
   "cell_type": "code",
   "execution_count": 18,
   "metadata": {},
   "outputs": [
    {
     "name": "stdout",
     "output_type": "stream",
     "text": [
      "X_train :  (7352, 561)\n",
      "y_train :  (7352,)\n"
     ]
    }
   ],
   "source": [
    "X_train=train.iloc[:,0:561].values\n",
    "y_train=train.iloc[:, 561].values\n",
    "print('X_train : ',X_train.shape)\n",
    "print('y_train : ',y_train.shape)"
   ]
  },
  {
   "cell_type": "code",
   "execution_count": 19,
   "metadata": {},
   "outputs": [
    {
     "name": "stdout",
     "output_type": "stream",
     "text": [
      "X_test :  (2947, 561)\n",
      "y_test :  (2947,)\n"
     ]
    }
   ],
   "source": [
    "X_test=test.iloc[:,0:561].values\n",
    "y_test=test.iloc[:, 561].values\n",
    "print('X_test : ',X_test.shape)\n",
    "print('y_test : ',y_test.shape)"
   ]
  },
  {
   "cell_type": "code",
   "execution_count": 20,
   "metadata": {},
   "outputs": [],
   "source": [
    "from sklearn.preprocessing import StandardScaler\n",
    "sc = StandardScaler()\n",
    "X_train = sc.fit_transform(X_train)\n",
    "X_test = sc.transform(X_test)"
   ]
  },
  {
   "cell_type": "markdown",
   "metadata": {},
   "source": [
    "### Applying PCA"
   ]
  },
  {
   "cell_type": "code",
   "execution_count": 21,
   "metadata": {},
   "outputs": [],
   "source": [
    "from sklearn.decomposition import PCA\n",
    "pca = PCA(n_components = 70)\n",
    "X_train = pca.fit_transform(X_train)\n",
    "X_test = pca.transform(X_test)\n",
    "explained_variance = pca.explained_variance_ratio_"
   ]
  },
  {
   "cell_type": "code",
   "execution_count": 22,
   "metadata": {},
   "outputs": [],
   "source": [
    "principle_components = pd.DataFrame(X_train)"
   ]
  },
  {
   "cell_type": "code",
   "execution_count": 23,
   "metadata": {},
   "outputs": [
    {
     "data": {
      "text/html": [
       "<div>\n",
       "<style scoped>\n",
       "    .dataframe tbody tr th:only-of-type {\n",
       "        vertical-align: middle;\n",
       "    }\n",
       "\n",
       "    .dataframe tbody tr th {\n",
       "        vertical-align: top;\n",
       "    }\n",
       "\n",
       "    .dataframe thead th {\n",
       "        text-align: right;\n",
       "    }\n",
       "</style>\n",
       "<table border=\"1\" class=\"dataframe\">\n",
       "  <thead>\n",
       "    <tr style=\"text-align: right;\">\n",
       "      <th></th>\n",
       "      <th>0</th>\n",
       "      <th>1</th>\n",
       "      <th>2</th>\n",
       "      <th>3</th>\n",
       "      <th>4</th>\n",
       "      <th>5</th>\n",
       "      <th>6</th>\n",
       "      <th>7</th>\n",
       "      <th>8</th>\n",
       "      <th>9</th>\n",
       "      <th>...</th>\n",
       "      <th>60</th>\n",
       "      <th>61</th>\n",
       "      <th>62</th>\n",
       "      <th>63</th>\n",
       "      <th>64</th>\n",
       "      <th>65</th>\n",
       "      <th>66</th>\n",
       "      <th>67</th>\n",
       "      <th>68</th>\n",
       "      <th>69</th>\n",
       "    </tr>\n",
       "  </thead>\n",
       "  <tbody>\n",
       "    <tr>\n",
       "      <th>7349</th>\n",
       "      <td>14.333436</td>\n",
       "      <td>-12.260712</td>\n",
       "      <td>4.025947</td>\n",
       "      <td>3.849781</td>\n",
       "      <td>-2.860488</td>\n",
       "      <td>-3.624039</td>\n",
       "      <td>-3.929693</td>\n",
       "      <td>-0.873186</td>\n",
       "      <td>-0.746497</td>\n",
       "      <td>-1.575822</td>\n",
       "      <td>...</td>\n",
       "      <td>0.115059</td>\n",
       "      <td>-2.075007</td>\n",
       "      <td>1.363540</td>\n",
       "      <td>-0.311594</td>\n",
       "      <td>0.055239</td>\n",
       "      <td>0.379975</td>\n",
       "      <td>-0.490469</td>\n",
       "      <td>0.512310</td>\n",
       "      <td>-0.068088</td>\n",
       "      <td>-1.085870</td>\n",
       "    </tr>\n",
       "    <tr>\n",
       "      <th>7350</th>\n",
       "      <td>12.876019</td>\n",
       "      <td>-14.071256</td>\n",
       "      <td>2.916060</td>\n",
       "      <td>5.013422</td>\n",
       "      <td>-3.938217</td>\n",
       "      <td>-2.137600</td>\n",
       "      <td>-5.390397</td>\n",
       "      <td>0.321265</td>\n",
       "      <td>-0.916338</td>\n",
       "      <td>-1.646384</td>\n",
       "      <td>...</td>\n",
       "      <td>-0.283016</td>\n",
       "      <td>-1.222087</td>\n",
       "      <td>1.304564</td>\n",
       "      <td>-0.006161</td>\n",
       "      <td>-0.906528</td>\n",
       "      <td>0.205259</td>\n",
       "      <td>-0.585949</td>\n",
       "      <td>0.541683</td>\n",
       "      <td>-0.809112</td>\n",
       "      <td>-1.441248</td>\n",
       "    </tr>\n",
       "    <tr>\n",
       "      <th>7351</th>\n",
       "      <td>13.016104</td>\n",
       "      <td>-12.244261</td>\n",
       "      <td>1.336046</td>\n",
       "      <td>4.215301</td>\n",
       "      <td>-1.834854</td>\n",
       "      <td>-2.354378</td>\n",
       "      <td>-5.004044</td>\n",
       "      <td>2.631360</td>\n",
       "      <td>0.805703</td>\n",
       "      <td>0.031773</td>\n",
       "      <td>...</td>\n",
       "      <td>-1.920278</td>\n",
       "      <td>0.272332</td>\n",
       "      <td>0.465273</td>\n",
       "      <td>0.511577</td>\n",
       "      <td>-0.655505</td>\n",
       "      <td>-0.985105</td>\n",
       "      <td>0.620875</td>\n",
       "      <td>-0.526142</td>\n",
       "      <td>-0.798133</td>\n",
       "      <td>-0.799016</td>\n",
       "    </tr>\n",
       "  </tbody>\n",
       "</table>\n",
       "<p>3 rows × 70 columns</p>\n",
       "</div>"
      ],
      "text/plain": [
       "             0          1         2         3         4         5         6   \\\n",
       "7349  14.333436 -12.260712  4.025947  3.849781 -2.860488 -3.624039 -3.929693   \n",
       "7350  12.876019 -14.071256  2.916060  5.013422 -3.938217 -2.137600 -5.390397   \n",
       "7351  13.016104 -12.244261  1.336046  4.215301 -1.834854 -2.354378 -5.004044   \n",
       "\n",
       "            7         8         9   ...        60        61        62  \\\n",
       "7349 -0.873186 -0.746497 -1.575822  ...  0.115059 -2.075007  1.363540   \n",
       "7350  0.321265 -0.916338 -1.646384  ... -0.283016 -1.222087  1.304564   \n",
       "7351  2.631360  0.805703  0.031773  ... -1.920278  0.272332  0.465273   \n",
       "\n",
       "            63        64        65        66        67        68        69  \n",
       "7349 -0.311594  0.055239  0.379975 -0.490469  0.512310 -0.068088 -1.085870  \n",
       "7350 -0.006161 -0.906528  0.205259 -0.585949  0.541683 -0.809112 -1.441248  \n",
       "7351  0.511577 -0.655505 -0.985105  0.620875 -0.526142 -0.798133 -0.799016  \n",
       "\n",
       "[3 rows x 70 columns]"
      ]
     },
     "execution_count": 23,
     "metadata": {},
     "output_type": "execute_result"
    }
   ],
   "source": [
    "principle_components.tail(3)"
   ]
  },
  {
   "cell_type": "code",
   "execution_count": 24,
   "metadata": {},
   "outputs": [
    {
     "name": "stdout",
     "output_type": "stream",
     "text": [
      "Explained variation per principal component: [0.50781172 0.0658068  0.02806437 0.02503953 0.01888285 0.01724006\n",
      " 0.01371011 0.01199078 0.0099586  0.00965087 0.00860052 0.00800281\n",
      " 0.00763996 0.00645329 0.00632324 0.00599721 0.00586749 0.00575407\n",
      " 0.0056792  0.00527295 0.00500361 0.00488406 0.00478201 0.00468561\n",
      " 0.00449288 0.00421016 0.00417966 0.00405562 0.00388513 0.00387003\n",
      " 0.0036594  0.00354525 0.00347901 0.00337157 0.00329625 0.00328155\n",
      " 0.00320492 0.00295532 0.00286627 0.00284894 0.00268626 0.0026532\n",
      " 0.00263207 0.00258433 0.00248845 0.00246641 0.00240226 0.00235822\n",
      " 0.0022956  0.00226947 0.00219873 0.00212863 0.00207037 0.00201136\n",
      " 0.00197781 0.00196746 0.00193109 0.00188211 0.0018636  0.00184326\n",
      " 0.00179937 0.00174922 0.00172752 0.00167479 0.00167193 0.00164871\n",
      " 0.00160191 0.00158215 0.00154354 0.00153108]\n"
     ]
    }
   ],
   "source": [
    "print('Explained variation per principal component: {}'.format(pca.explained_variance_ratio_))"
   ]
  },
  {
   "cell_type": "code",
   "execution_count": 25,
   "metadata": {},
   "outputs": [],
   "source": [
    "ratio = pca.explained_variance_ratio_"
   ]
  },
  {
   "cell_type": "code",
   "execution_count": 26,
   "metadata": {},
   "outputs": [
    {
     "data": {
      "text/plain": [
       "0.9115445645294373"
      ]
     },
     "execution_count": 26,
     "metadata": {},
     "output_type": "execute_result"
    }
   ],
   "source": [
    "ratio.sum()"
   ]
  },
  {
   "cell_type": "code",
   "execution_count": 27,
   "metadata": {},
   "outputs": [
    {
     "data": {
      "text/plain": [
       "<matplotlib.legend.Legend at 0x23beddd8>"
      ]
     },
     "execution_count": 27,
     "metadata": {},
     "output_type": "execute_result"
    },
    {
     "data": {
      "text/plain": [
       "<Figure size 432x288 with 0 Axes>"
      ]
     },
     "metadata": {},
     "output_type": "display_data"
    },
    {
     "data": {
      "image/png": "[encoded data removed]",
      "text/plain": [
       "<Figure size 432x360 with 1 Axes>"
      ]
     },
     "metadata": {
      "needs_background": "light"
     },
     "output_type": "display_data"
    }
   ],
   "source": [
    "plt.figure()\n",
    "plt.figure(figsize=(6,5))\n",
    "plt.xticks(fontsize=8)\n",
    "plt.yticks(fontsize=8)\n",
    "plt.xlabel('Principal Component - 1',fontsize=10)\n",
    "plt.ylabel('Principal Component - 2',fontsize=10)\n",
    "plt.title(\"Principal Component Analysis\",fontsize=10)\n",
    "targets = ['WALKING','WALKING_UPSTAIRS','WALKING_DOWNSTAIRS','SITTING','STANDING','LAYING']\n",
    "colors = ['#f0a289','#4e35bd','#27ab30','#a82539','#26b5ae','#251b96']\n",
    "for target, color in zip(targets,colors):\n",
    "    indicesToKeep = train['Activity'] == target\n",
    "    plt.scatter(principle_components.loc[indicesToKeep, 0]\n",
    "               ,principle_components.loc[indicesToKeep, 1], c = color, s = 10)\n",
    "\n",
    "plt.legend(targets,prop={'size': 8})"
   ]
  },
  {
   "cell_type": "code",
   "execution_count": 28,
   "metadata": {},
   "outputs": [],
   "source": [
    "X_train_pca = pd.DataFrame(X_train)\n",
    "X_test_pca = pd.DataFrame(X_test)"
   ]
  },
  {
   "cell_type": "code",
   "execution_count": 29,
   "metadata": {},
   "outputs": [
    {
     "data": {
      "text/plain": [
       "((7352, 70), (2947, 70))"
      ]
     },
     "execution_count": 29,
     "metadata": {},
     "output_type": "execute_result"
    }
   ],
   "source": [
    "X_train_pca.shape,X_test_pca.shape"
   ]
  },
  {
   "cell_type": "code",
   "execution_count": 30,
   "metadata": {},
   "outputs": [
    {
     "name": "stdout",
     "output_type": "stream",
     "text": [
      "Random_Forest_Tuned : _Train_Accuracy : 0.9182535364526659\n",
      "Random_Forest_Tuned : _Test_Accuracy : 0.833050559891415\n",
      "Duration: 0:03:37.507408\n",
      "--------------------------------------------------\n",
      "Xg_boost : _Train_Accuracy : 0.971436343852013\n",
      "Xg_boost : _Test_Accuracy : 0.8836104513064132\n",
      "Duration: 0:01:01.973543\n",
      "--------------------------------------------------\n",
      "Bagging Classifier : _Train_Accuracy : 0.9957834602829162\n",
      "Bagging Classifier : _Test_Accuracy : 0.8218527315914489\n",
      "Duration: 0:00:08.362479\n",
      "--------------------------------------------------\n"
     ]
    }
   ],
   "source": [
    "from sklearn.metrics import confusion_matrix,accuracy_score\n",
    "from sklearn.tree import DecisionTreeClassifier\n",
    "from sklearn.ensemble import RandomForestClassifier,BaggingClassifier\n",
    "from xgboost import XGBClassifier\n",
    "from sklearn.model_selection import GridSearchCV\n",
    "from datetime import datetime\n",
    "\n",
    "rf = RandomForestClassifier()\n",
    "\n",
    "param_grid_rf = {\"n_estimators\": [30,50,60],\n",
    "                 \"max_depth\": [2,3,5,7],\n",
    "                 \"min_samples_leaf\": [2, 4]}\n",
    "\n",
    "classifiers = [['Random_Forest_Tuned : ',GridSearchCV(rf,param_grid=param_grid_rf,cv=5,scoring='accuracy')],\n",
    "               ['Xg_boost : ',XGBClassifier()],\n",
    "               ['Bagging Classifier : ',BaggingClassifier()]]\n",
    "\n",
    "\n",
    "# class_predictions = []\n",
    "for name,model in classifiers:\n",
    "    model=model\n",
    "    start_time = datetime.now()\n",
    "    model.fit(X_train,y_train)\n",
    "    predictions = model.predict(X_train)\n",
    "    predictions1 = model.predict(X_test)\n",
    "#   class_predictions.append(accuracy_score(y_test,predictions))\n",
    "    print(f'{name}_Train_Accuracy :',accuracy_score(y_train,predictions))\n",
    "    print(f'{name}_Test_Accuracy :',accuracy_score(y_test,predictions1))\n",
    "    end_time = datetime.now()\n",
    "    print('Duration: {}'.format(end_time - start_time))\n",
    "    print('--------------------------------------------------')"
   ]
  },
  {
   "cell_type": "markdown",
   "metadata": {},
   "source": [
    "## Deep Neural Network Techniques with PCA"
   ]
  },
  {
   "cell_type": "code",
   "execution_count": 31,
   "metadata": {},
   "outputs": [],
   "source": [
    "X_train = pd.DataFrame(X_train)\n",
    "X_test = pd.DataFrame(X_test)"
   ]
  },
  {
   "cell_type": "code",
   "execution_count": 32,
   "metadata": {},
   "outputs": [],
   "source": [
    "y_train = pd.get_dummies(y_train)\n",
    "y_test = pd.get_dummies(y_test)"
   ]
  },
  {
   "cell_type": "code",
   "execution_count": 33,
   "metadata": {},
   "outputs": [
    {
     "name": "stderr",
     "output_type": "stream",
     "text": [
      "Using TensorFlow backend.\n"
     ]
    },
    {
     "name": "stdout",
     "output_type": "stream",
     "text": [
      "WARNING:tensorflow:From C:\\ProgramData\\Anaconda3\\lib\\site-packages\\tensorflow\\python\\framework\\op_def_library.py:263: colocate_with (from tensorflow.python.framework.ops) is deprecated and will be removed in a future version.\n",
      "Instructions for updating:\n",
      "Colocations handled automatically by placer.\n",
      "WARNING:tensorflow:From C:\\ProgramData\\Anaconda3\\lib\\site-packages\\keras\\backend\\tensorflow_backend.py:3445: calling dropout (from tensorflow.python.ops.nn_ops) with keep_prob is deprecated and will be removed in a future version.\n",
      "Instructions for updating:\n",
      "Please use `rate` instead of `keep_prob`. Rate should be set to `rate = 1 - keep_prob`.\n"
     ]
    }
   ],
   "source": [
    "from keras.models import Sequential\n",
    "from keras.layers import Dense, Dropout,BatchNormalization\n",
    "from keras import optimizers\n",
    "from keras.optimizers import SGD\n",
    "import tensorflow as tf\n",
    "model = Sequential()\n",
    "model.add(Dense(45,activation='relu',input_dim=70))\n",
    "model.add(Dropout(0.5))\n",
    "model.add(Dense(25, activation='relu'))\n",
    "model.add(Dropout(0.5))\n",
    "model.add(Dense(6, activation='softmax'))\n",
    "sgd = SGD(lr=0.01, decay=1e-6, momentum=0.9, nesterov=True)\n",
    "model.compile(loss='categorical_crossentropy',optimizer=sgd,metrics=['accuracy'])"
   ]
  },
  {
   "cell_type": "code",
   "execution_count": 34,
   "metadata": {
    "scrolled": true
   },
   "outputs": [
    {
     "name": "stdout",
     "output_type": "stream",
     "text": [
      "_________________________________________________________________\n",
      "Layer (type)                 Output Shape              Param #   \n",
      "=================================================================\n",
      "dense_1 (Dense)              (None, 45)                3195      \n",
      "_________________________________________________________________\n",
      "dropout_1 (Dropout)          (None, 45)                0         \n",
      "_________________________________________________________________\n",
      "dense_2 (Dense)              (None, 25)                1150      \n",
      "_________________________________________________________________\n",
      "dropout_2 (Dropout)          (None, 25)                0         \n",
      "_________________________________________________________________\n",
      "dense_3 (Dense)              (None, 6)                 156       \n",
      "=================================================================\n",
      "Total params: 4,501\n",
      "Trainable params: 4,501\n",
      "Non-trainable params: 0\n",
      "_________________________________________________________________\n"
     ]
    }
   ],
   "source": [
    "model.summary()"
   ]
  },
  {
   "cell_type": "code",
   "execution_count": 35,
   "metadata": {},
   "outputs": [
    {
     "name": "stdout",
     "output_type": "stream",
     "text": [
      "WARNING:tensorflow:From C:\\ProgramData\\Anaconda3\\lib\\site-packages\\tensorflow\\python\\ops\\math_ops.py:3066: to_int32 (from tensorflow.python.ops.math_ops) is deprecated and will be removed in a future version.\n",
      "Instructions for updating:\n",
      "Use tf.cast instead.\n",
      "Train on 7352 samples, validate on 2947 samples\n",
      "Epoch 1/50\n",
      "7352/7352 [==============================] - 1s 131us/step - loss: 1.7109 - acc: 0.4172 - val_loss: 0.7935 - val_acc: 0.6987\n",
      "Epoch 2/50\n",
      "7352/7352 [==============================] - 0s 64us/step - loss: 0.8820 - acc: 0.5996 - val_loss: 0.5761 - val_acc: 0.7520\n",
      "Epoch 3/50\n",
      "7352/7352 [==============================] - 0s 45us/step - loss: 0.7364 - acc: 0.6561 - val_loss: 0.4837 - val_acc: 0.8107\n",
      "Epoch 4/50\n",
      "7352/7352 [==============================] - 0s 41us/step - loss: 0.6560 - acc: 0.7020 - val_loss: 0.3980 - val_acc: 0.8100\n",
      "Epoch 5/50\n",
      "7352/7352 [==============================] - 0s 60us/step - loss: 0.5989 - acc: 0.7267 - val_loss: 0.3879 - val_acc: 0.8059\n",
      "Epoch 6/50\n",
      "7352/7352 [==============================] - 0s 27us/step - loss: 0.5407 - acc: 0.7548 - val_loss: 0.3271 - val_acc: 0.8758\n",
      "Epoch 7/50\n",
      "7352/7352 [==============================] - 0s 27us/step - loss: 0.5161 - acc: 0.7591 - val_loss: 0.3424 - val_acc: 0.8208\n",
      "Epoch 8/50\n",
      "7352/7352 [==============================] - 0s 27us/step - loss: 0.4771 - acc: 0.7832 - val_loss: 0.2918 - val_acc: 0.8544\n",
      "Epoch 9/50\n",
      "7352/7352 [==============================] - 0s 27us/step - loss: 0.4627 - acc: 0.7933 - val_loss: 0.2857 - val_acc: 0.8660\n",
      "Epoch 10/50\n",
      "7352/7352 [==============================] - 0s 27us/step - loss: 0.4302 - acc: 0.8047 - val_loss: 0.2721 - val_acc: 0.8531\n",
      "Epoch 11/50\n",
      "7352/7352 [==============================] - 0s 26us/step - loss: 0.4111 - acc: 0.8186 - val_loss: 0.2742 - val_acc: 0.8979\n",
      "Epoch 12/50\n",
      "7352/7352 [==============================] - 0s 27us/step - loss: 0.3830 - acc: 0.8308 - val_loss: 0.2578 - val_acc: 0.8778\n",
      "Epoch 13/50\n",
      "7352/7352 [==============================] - 0s 27us/step - loss: 0.3707 - acc: 0.8402 - val_loss: 0.2409 - val_acc: 0.8816\n",
      "Epoch 14/50\n",
      "7352/7352 [==============================] - 0s 39us/step - loss: 0.3752 - acc: 0.8305 - val_loss: 0.2361 - val_acc: 0.8931\n",
      "Epoch 15/50\n",
      "7352/7352 [==============================] - 1s 75us/step - loss: 0.3625 - acc: 0.8459 - val_loss: 0.2355 - val_acc: 0.9111\n",
      "Epoch 16/50\n",
      "7352/7352 [==============================] - 0s 42us/step - loss: 0.3463 - acc: 0.8508 - val_loss: 0.2313 - val_acc: 0.9063\n",
      "Epoch 17/50\n",
      "7352/7352 [==============================] - 0s 40us/step - loss: 0.3453 - acc: 0.8507 - val_loss: 0.2348 - val_acc: 0.9074\n",
      "Epoch 18/50\n",
      "7352/7352 [==============================] - 0s 27us/step - loss: 0.3186 - acc: 0.8575 - val_loss: 0.2212 - val_acc: 0.9053\n",
      "Epoch 19/50\n",
      "7352/7352 [==============================] - 0s 63us/step - loss: 0.3247 - acc: 0.8609 - val_loss: 0.2173 - val_acc: 0.9216\n",
      "Epoch 20/50\n",
      "7352/7352 [==============================] - 0s 38us/step - loss: 0.3154 - acc: 0.8585 - val_loss: 0.2156 - val_acc: 0.9175\n",
      "Epoch 21/50\n",
      "7352/7352 [==============================] - 0s 52us/step - loss: 0.3017 - acc: 0.8706 - val_loss: 0.2101 - val_acc: 0.9155\n",
      "Epoch 22/50\n",
      "7352/7352 [==============================] - 0s 27us/step - loss: 0.3030 - acc: 0.8698 - val_loss: 0.2207 - val_acc: 0.9101\n",
      "Epoch 23/50\n",
      "7352/7352 [==============================] - 0s 27us/step - loss: 0.2997 - acc: 0.8649 - val_loss: 0.2083 - val_acc: 0.9213\n",
      "Epoch 24/50\n",
      "7352/7352 [==============================] - 0s 55us/step - loss: 0.2990 - acc: 0.8751 - val_loss: 0.2224 - val_acc: 0.9175\n",
      "Epoch 25/50\n",
      "7352/7352 [==============================] - 0s 54us/step - loss: 0.2844 - acc: 0.8732 - val_loss: 0.2392 - val_acc: 0.9043\n",
      "Epoch 26/50\n",
      "7352/7352 [==============================] - 0s 27us/step - loss: 0.2734 - acc: 0.8785 - val_loss: 0.2324 - val_acc: 0.9053\n",
      "Epoch 27/50\n",
      "7352/7352 [==============================] - 0s 27us/step - loss: 0.2790 - acc: 0.8804 - val_loss: 0.2180 - val_acc: 0.9209\n",
      "Epoch 28/50\n",
      "7352/7352 [==============================] - 0s 27us/step - loss: 0.2690 - acc: 0.8844 - val_loss: 0.2431 - val_acc: 0.9158\n",
      "Epoch 29/50\n",
      "7352/7352 [==============================] - 0s 27us/step - loss: 0.2804 - acc: 0.8772 - val_loss: 0.2181 - val_acc: 0.9220\n",
      "Epoch 30/50\n",
      "7352/7352 [==============================] - 0s 27us/step - loss: 0.2709 - acc: 0.8851 - val_loss: 0.2278 - val_acc: 0.9128\n",
      "Epoch 31/50\n",
      "7352/7352 [==============================] - 0s 28us/step - loss: 0.2472 - acc: 0.8945 - val_loss: 0.2239 - val_acc: 0.9043\n",
      "Epoch 32/50\n",
      "7352/7352 [==============================] - 0s 27us/step - loss: 0.2552 - acc: 0.8894 - val_loss: 0.2244 - val_acc: 0.9162\n",
      "Epoch 33/50\n",
      "7352/7352 [==============================] - 0s 27us/step - loss: 0.2628 - acc: 0.8876 - val_loss: 0.2144 - val_acc: 0.9206\n",
      "Epoch 34/50\n",
      "7352/7352 [==============================] - 0s 29us/step - loss: 0.2584 - acc: 0.8853 - val_loss: 0.2351 - val_acc: 0.9063\n",
      "Epoch 35/50\n",
      "7352/7352 [==============================] - 0s 27us/step - loss: 0.2552 - acc: 0.8887 - val_loss: 0.2135 - val_acc: 0.9213\n",
      "Epoch 36/50\n",
      "7352/7352 [==============================] - 0s 27us/step - loss: 0.2445 - acc: 0.8927 - val_loss: 0.2248 - val_acc: 0.9196\n",
      "Epoch 37/50\n",
      "7352/7352 [==============================] - 0s 27us/step - loss: 0.2506 - acc: 0.8871 - val_loss: 0.2260 - val_acc: 0.9189\n",
      "Epoch 38/50\n",
      "7352/7352 [==============================] - 0s 27us/step - loss: 0.2633 - acc: 0.8859 - val_loss: 0.2238 - val_acc: 0.9199\n",
      "Epoch 39/50\n",
      "7352/7352 [==============================] - 0s 27us/step - loss: 0.2534 - acc: 0.8913 - val_loss: 0.2189 - val_acc: 0.9199\n",
      "Epoch 40/50\n",
      "7352/7352 [==============================] - 0s 28us/step - loss: 0.2460 - acc: 0.8917 - val_loss: 0.2274 - val_acc: 0.9230\n",
      "Epoch 41/50\n",
      "7352/7352 [==============================] - 0s 27us/step - loss: 0.2517 - acc: 0.8908 - val_loss: 0.2242 - val_acc: 0.9192\n",
      "Epoch 42/50\n",
      "7352/7352 [==============================] - 0s 27us/step - loss: 0.2453 - acc: 0.8936 - val_loss: 0.2248 - val_acc: 0.9206\n",
      "Epoch 43/50\n",
      "7352/7352 [==============================] - 0s 27us/step - loss: 0.2411 - acc: 0.8947 - val_loss: 0.2332 - val_acc: 0.9053\n",
      "Epoch 44/50\n",
      "7352/7352 [==============================] - 0s 27us/step - loss: 0.2312 - acc: 0.9015 - val_loss: 0.2489 - val_acc: 0.9026\n",
      "Epoch 45/50\n",
      "7352/7352 [==============================] - 0s 27us/step - loss: 0.2334 - acc: 0.8998 - val_loss: 0.2388 - val_acc: 0.9172\n",
      "Epoch 46/50\n",
      "7352/7352 [==============================] - 0s 27us/step - loss: 0.2355 - acc: 0.9015 - val_loss: 0.2304 - val_acc: 0.9155\n",
      "Epoch 47/50\n",
      "7352/7352 [==============================] - 0s 27us/step - loss: 0.2220 - acc: 0.9072 - val_loss: 0.2620 - val_acc: 0.8989\n",
      "Epoch 48/50\n",
      "7352/7352 [==============================] - 0s 27us/step - loss: 0.2336 - acc: 0.8991 - val_loss: 0.2355 - val_acc: 0.9196\n",
      "Epoch 49/50\n",
      "7352/7352 [==============================] - 0s 27us/step - loss: 0.2323 - acc: 0.8988 - val_loss: 0.2466 - val_acc: 0.9141\n",
      "Epoch 50/50\n",
      "7352/7352 [==============================] - 0s 50us/step - loss: 0.2213 - acc: 0.9057 - val_loss: 0.2481 - val_acc: 0.9138\n"
     ]
    }
   ],
   "source": [
    "model_history = model.fit(X_train,y_train,epochs=50,batch_size=128,validation_data=(X_test, y_test))"
   ]
  },
  {
   "cell_type": "code",
   "execution_count": 36,
   "metadata": {},
   "outputs": [
    {
     "name": "stdout",
     "output_type": "stream",
     "text": [
      "dict_keys(['val_loss', 'val_acc', 'loss', 'acc'])\n"
     ]
    }
   ],
   "source": [
    "print(model_history.history.keys())"
   ]
  },
  {
   "cell_type": "code",
   "execution_count": 37,
   "metadata": {},
   "outputs": [
    {
     "data": {
      "image/png": "[encoded data removed]",
      "text/plain": [
       "<Figure size 432x288 with 1 Axes>"
      ]
     },
     "metadata": {
      "needs_background": "light"
     },
     "output_type": "display_data"
    },
    {
     "data": {
      "image/png": "[encoded data removed]",
      "text/plain": [
       "<Figure size 432x288 with 1 Axes>"
      ]
     },
     "metadata": {
      "needs_background": "light"
     },
     "output_type": "display_data"
    }
   ],
   "source": [
    "plt.plot(model_history.history['acc'])\n",
    "plt.plot(model_history.history['val_acc'])\n",
    "plt.title('Accuracy Plot')\n",
    "plt.ylabel('Accuracy')\n",
    "plt.xlabel('Epoch')\n",
    "plt.legend(['Train', 'Validation'])\n",
    "plt.show() \n",
    "plt.plot(model_history.history['loss'])\n",
    "plt.plot(model_history.history['val_loss'])\n",
    "plt.title('Loss Function Plot')\n",
    "plt.ylabel('Loss')\n",
    "plt.xlabel('Epoch')\n",
    "plt.legend(['Train', 'Validation'])\n",
    "plt.show()"
   ]
  },
  {
   "cell_type": "markdown",
   "metadata": {},
   "source": [
    "#### Finding Best Parameters"
   ]
  },
  {
   "cell_type": "code",
   "execution_count": 38,
   "metadata": {},
   "outputs": [],
   "source": [
    "def model_def(h_activation, o_activation, kernel_init):\n",
    "    model=Sequential()\n",
    "    model.add(Dense(25, input_dim = 70, activation=h_activation, kernel_initializer=kernel_init))\n",
    "    model.add(Dense(15, activation=h_activation, kernel_initializer=kernel_init))\n",
    "    model.add(Dense(6, activation=o_activation, kernel_initializer=kernel_init))\n",
    "    return model "
   ]
  },
  {
   "cell_type": "markdown",
   "metadata": {},
   "source": [
    "#### Store the best Parameter"
   ]
  },
  {
   "cell_type": "code",
   "execution_count": 39,
   "metadata": {},
   "outputs": [],
   "source": [
    "best_params={}"
   ]
  },
  {
   "cell_type": "markdown",
   "metadata": {},
   "source": [
    "#### Finding the Best Learning Rate"
   ]
  },
  {
   "cell_type": "markdown",
   "metadata": {},
   "source": [
    "    Using logarithmic scale randomly generate values between 0.0001 to 1 "
   ]
  },
  {
   "cell_type": "code",
   "execution_count": 40,
   "metadata": {},
   "outputs": [
    {
     "data": {
      "text/plain": [
       "[0.0122, 0.0009, 0.008, 0.0786, 0.0004, 0.5057, 0.1388, 0.001, 0.0992, 0.0001]"
      ]
     },
     "execution_count": 40,
     "metadata": {},
     "output_type": "execute_result"
    }
   ],
   "source": [
    "NUM_LR = 10\n",
    "lrs = [round(i, 4) for i in list(10 ** (-4 * np.random.rand(NUM_LR)))]\n",
    "lrs"
   ]
  },
  {
   "cell_type": "code",
   "execution_count": 41,
   "metadata": {},
   "outputs": [
    {
     "name": "stdout",
     "output_type": "stream",
     "text": [
      "Train on 5881 samples, validate on 1471 samples\n",
      "Epoch 1/1\n",
      "50/50 [==============================] - 2s 33ms/step - loss: 1.7847 - acc: 0.2751 - val_loss: 1.7753 - val_acc: 0.2910\n",
      "Train on 5881 samples, validate on 1471 samples\n",
      "Epoch 1/1\n",
      "50/50 [==============================] - 2s 31ms/step - loss: 1.7931 - acc: 0.1864 - val_loss: 1.7917 - val_acc: 0.2067\n",
      "Train on 5881 samples, validate on 1471 samples\n",
      "Epoch 1/1\n",
      "50/50 [==============================] - 2s 31ms/step - loss: 1.7880 - acc: 0.2564 - val_loss: 1.7822 - val_acc: 0.2862\n",
      "Train on 5881 samples, validate on 1471 samples\n",
      "Epoch 1/1\n",
      "50/50 [==============================] - 1s 28ms/step - loss: 1.4851 - acc: 0.3869 - val_loss: 1.0776 - val_acc: 0.4663\n",
      "Train on 5881 samples, validate on 1471 samples\n",
      "Epoch 1/1\n",
      "50/50 [==============================] - 2s 45ms/step - loss: 1.7934 - acc: 0.1807 - val_loss: 1.7923 - val_acc: 0.1937\n",
      "Train on 5881 samples, validate on 1471 samples\n",
      "Epoch 1/1\n",
      "50/50 [==============================] - 3s 51ms/step - loss: 1.9717 - acc: 0.4457 - val_loss: 1.8452 - val_acc: 0.1822\n",
      "Train on 5881 samples, validate on 1471 samples\n",
      "Epoch 1/1\n",
      "50/50 [==============================] - 3s 57ms/step - loss: 1.2859 - acc: 0.4424 - val_loss: 0.8504 - val_acc: 0.7424\n",
      "Train on 5881 samples, validate on 1471 samples\n",
      "Epoch 1/1\n",
      "50/50 [==============================] - 2s 48ms/step - loss: 1.7930 - acc: 0.1877 - val_loss: 1.7915 - val_acc: 0.2101\n",
      "Train on 5881 samples, validate on 1471 samples\n",
      "Epoch 1/1\n",
      "50/50 [==============================] - 3s 53ms/step - loss: 1.3958 - acc: 0.4072 - val_loss: 1.0075 - val_acc: 0.5670\n",
      "Train on 5881 samples, validate on 1471 samples\n",
      "Epoch 1/1\n",
      "50/50 [==============================] - 2s 50ms/step - loss: 1.7937 - acc: 0.1771 - val_loss: 1.7927 - val_acc: 0.1863\n"
     ]
    }
   ],
   "source": [
    "hist_loss = []\n",
    "for lr in lrs:\n",
    "    \n",
    "    np.random.seed(123)\n",
    "    lr_model = model_def(h_activation='relu', o_activation='softmax', kernel_init='normal')\n",
    "    # Compile model\n",
    "    sgd = optimizers.SGD(lr=lr)\n",
    "    lr_model.compile(loss='categorical_crossentropy', optimizer=sgd, metrics=['accuracy'])\n",
    "    # Fit the model\n",
    "    lr_model_history = lr_model.fit(X_train, y_train, validation_split=0.2, epochs=1,shuffle=True, steps_per_epoch=50, validation_steps=50)\n",
    "    hist_loss.append(lr_model_history.history['loss'])"
   ]
  },
  {
   "cell_type": "code",
   "execution_count": 42,
   "metadata": {},
   "outputs": [
    {
     "data": {
      "text/html": [
       "<div>\n",
       "<style scoped>\n",
       "    .dataframe tbody tr th:only-of-type {\n",
       "        vertical-align: middle;\n",
       "    }\n",
       "\n",
       "    .dataframe tbody tr th {\n",
       "        vertical-align: top;\n",
       "    }\n",
       "\n",
       "    .dataframe thead th {\n",
       "        text-align: right;\n",
       "    }\n",
       "</style>\n",
       "<table border=\"1\" class=\"dataframe\">\n",
       "  <thead>\n",
       "    <tr style=\"text-align: right;\">\n",
       "      <th></th>\n",
       "      <th>lr</th>\n",
       "      <th>loss</th>\n",
       "    </tr>\n",
       "  </thead>\n",
       "  <tbody>\n",
       "    <tr>\n",
       "      <th>0</th>\n",
       "      <td>0.1388</td>\n",
       "      <td>[1.2859403419494628]</td>\n",
       "    </tr>\n",
       "    <tr>\n",
       "      <th>1</th>\n",
       "      <td>0.0992</td>\n",
       "      <td>[1.3957529616355897]</td>\n",
       "    </tr>\n",
       "    <tr>\n",
       "      <th>2</th>\n",
       "      <td>0.0786</td>\n",
       "      <td>[1.485074338912964]</td>\n",
       "    </tr>\n",
       "    <tr>\n",
       "      <th>3</th>\n",
       "      <td>0.0122</td>\n",
       "      <td>[1.7846722650527953]</td>\n",
       "    </tr>\n",
       "    <tr>\n",
       "      <th>4</th>\n",
       "      <td>0.008</td>\n",
       "      <td>[1.7880001258850098]</td>\n",
       "    </tr>\n",
       "    <tr>\n",
       "      <th>5</th>\n",
       "      <td>0.001</td>\n",
       "      <td>[1.7930263185501099]</td>\n",
       "    </tr>\n",
       "    <tr>\n",
       "      <th>6</th>\n",
       "      <td>0.0009</td>\n",
       "      <td>[1.7930960941314698]</td>\n",
       "    </tr>\n",
       "    <tr>\n",
       "      <th>7</th>\n",
       "      <td>0.0004</td>\n",
       "      <td>[1.7934447026252747]</td>\n",
       "    </tr>\n",
       "    <tr>\n",
       "      <th>8</th>\n",
       "      <td>0.0001</td>\n",
       "      <td>[1.793653917312622]</td>\n",
       "    </tr>\n",
       "    <tr>\n",
       "      <th>9</th>\n",
       "      <td>0.5057</td>\n",
       "      <td>[1.9716752243041993]</td>\n",
       "    </tr>\n",
       "  </tbody>\n",
       "</table>\n",
       "</div>"
      ],
      "text/plain": [
       "       lr                  loss\n",
       "0  0.1388  [1.2859403419494628]\n",
       "1  0.0992  [1.3957529616355897]\n",
       "2  0.0786   [1.485074338912964]\n",
       "3  0.0122  [1.7846722650527953]\n",
       "4   0.008  [1.7880001258850098]\n",
       "5   0.001  [1.7930263185501099]\n",
       "6  0.0009  [1.7930960941314698]\n",
       "7  0.0004  [1.7934447026252747]\n",
       "8  0.0001   [1.793653917312622]\n",
       "9  0.5057  [1.9716752243041993]"
      ]
     },
     "execution_count": 42,
     "metadata": {},
     "output_type": "execute_result"
    }
   ],
   "source": [
    "# Get the lr and loss Dataframe\n",
    "loss_lr = pd.DataFrame([lrs,hist_loss]).T  \n",
    "#Give the coloumn names\n",
    "loss_lr.columns=['lr', 'loss']\n",
    "#Sort the values and reset the index\n",
    "loss_lr=loss_lr.sort_values('loss').reset_index().drop('index',axis=1)\n",
    "loss_lr"
   ]
  },
  {
   "cell_type": "code",
   "execution_count": 43,
   "metadata": {},
   "outputs": [],
   "source": [
    "#pick the top lr\n",
    "best_params['best_learning_rate'] = loss_lr.loc[:,'lr'][0]"
   ]
  },
  {
   "cell_type": "markdown",
   "metadata": {},
   "source": [
    "#### Build Model With Best Learning Rate"
   ]
  },
  {
   "cell_type": "code",
   "execution_count": 44,
   "metadata": {},
   "outputs": [],
   "source": [
    "np.random.seed(123)\n",
    "tf.set_random_seed(123)"
   ]
  },
  {
   "cell_type": "code",
   "execution_count": 45,
   "metadata": {},
   "outputs": [],
   "source": [
    "bst_lr_model = model_def(h_activation='relu', o_activation='softmax', kernel_init='normal')"
   ]
  },
  {
   "cell_type": "code",
   "execution_count": 46,
   "metadata": {},
   "outputs": [
    {
     "name": "stdout",
     "output_type": "stream",
     "text": [
      "_________________________________________________________________\n",
      "Layer (type)                 Output Shape              Param #   \n",
      "=================================================================\n",
      "dense_34 (Dense)             (None, 25)                1775      \n",
      "_________________________________________________________________\n",
      "dense_35 (Dense)             (None, 15)                390       \n",
      "_________________________________________________________________\n",
      "dense_36 (Dense)             (None, 6)                 96        \n",
      "=================================================================\n",
      "Total params: 2,261\n",
      "Trainable params: 2,261\n",
      "Non-trainable params: 0\n",
      "_________________________________________________________________\n"
     ]
    }
   ],
   "source": [
    "bst_lr_model.summary()"
   ]
  },
  {
   "cell_type": "code",
   "execution_count": 47,
   "metadata": {},
   "outputs": [],
   "source": [
    "sgd = optimizers.SGD(lr=best_params['best_learning_rate'])\n",
    "bst_lr_model.compile(loss='categorical_crossentropy', optimizer=sgd, metrics=['accuracy'])"
   ]
  },
  {
   "cell_type": "code",
   "execution_count": 48,
   "metadata": {},
   "outputs": [
    {
     "name": "stdout",
     "output_type": "stream",
     "text": [
      "Train on 5881 samples, validate on 1471 samples\n",
      "Epoch 1/100\n",
      "5881/5881 [==============================] - 2s 279us/step - loss: 1.8197 - acc: 0.5025 - val_loss: 0.3858 - val_acc: 0.8674\n",
      "Epoch 2/100\n",
      "5881/5881 [==============================] - 0s 63us/step - loss: 0.3380 - acc: 0.8526 - val_loss: 0.2407 - val_acc: 0.9252\n",
      "Epoch 3/100\n",
      "5881/5881 [==============================] - 0s 48us/step - loss: 0.2403 - acc: 0.9041 - val_loss: 0.2873 - val_acc: 0.8967\n",
      "Epoch 4/100\n",
      "5881/5881 [==============================] - 0s 50us/step - loss: 0.1639 - acc: 0.9320 - val_loss: 0.2361 - val_acc: 0.9089\n",
      "Epoch 5/100\n",
      "5881/5881 [==============================] - 0s 48us/step - loss: 0.1592 - acc: 0.9393 - val_loss: 0.2958 - val_acc: 0.9048\n",
      "Epoch 6/100\n",
      "5881/5881 [==============================] - 0s 47us/step - loss: 0.1461 - acc: 0.9430 - val_loss: 0.2791 - val_acc: 0.8960\n",
      "Epoch 7/100\n",
      "5881/5881 [==============================] - 0s 46us/step - loss: 0.1208 - acc: 0.9498 - val_loss: 0.2051 - val_acc: 0.9205\n",
      "Epoch 8/100\n",
      "5881/5881 [==============================] - 0s 47us/step - loss: 0.1156 - acc: 0.9519 - val_loss: 0.2068 - val_acc: 0.9259\n",
      "Epoch 9/100\n",
      "5881/5881 [==============================] - 0s 46us/step - loss: 0.1271 - acc: 0.9454 - val_loss: 0.2266 - val_acc: 0.9211\n",
      "Epoch 10/100\n",
      "5881/5881 [==============================] - 0s 46us/step - loss: 0.1012 - acc: 0.9583 - val_loss: 0.2869 - val_acc: 0.9177\n",
      "Epoch 11/100\n",
      "5881/5881 [==============================] - 0s 46us/step - loss: 0.0955 - acc: 0.9595 - val_loss: 0.1828 - val_acc: 0.9279\n",
      "Epoch 12/100\n",
      "5881/5881 [==============================] - 0s 46us/step - loss: 0.0911 - acc: 0.9612 - val_loss: 0.1932 - val_acc: 0.9327\n",
      "Epoch 13/100\n",
      "5881/5881 [==============================] - 0s 46us/step - loss: 0.0854 - acc: 0.9657 - val_loss: 0.1668 - val_acc: 0.9252\n",
      "Epoch 14/100\n",
      "5881/5881 [==============================] - 0s 44us/step - loss: 0.0898 - acc: 0.9631 - val_loss: 0.4548 - val_acc: 0.8654\n",
      "Epoch 15/100\n",
      "5881/5881 [==============================] - 0s 45us/step - loss: 0.0764 - acc: 0.9684 - val_loss: 0.1774 - val_acc: 0.9334\n",
      "Epoch 16/100\n",
      "5881/5881 [==============================] - 1s 85us/step - loss: 0.0726 - acc: 0.9689 - val_loss: 0.1941 - val_acc: 0.9313\n",
      "Epoch 17/100\n",
      "5881/5881 [==============================] - 0s 77us/step - loss: 0.0764 - acc: 0.9684 - val_loss: 0.1871 - val_acc: 0.9368\n",
      "Epoch 18/100\n",
      "5881/5881 [==============================] - 0s 52us/step - loss: 0.0663 - acc: 0.9730 - val_loss: 0.2257 - val_acc: 0.9266\n",
      "Epoch 19/100\n",
      "5881/5881 [==============================] - 0s 53us/step - loss: 0.0611 - acc: 0.9747 - val_loss: 0.1930 - val_acc: 0.9354\n",
      "Epoch 20/100\n",
      "5881/5881 [==============================] - 1s 96us/step - loss: 0.0587 - acc: 0.9782 - val_loss: 0.2680 - val_acc: 0.9137\n",
      "Epoch 21/100\n",
      "5881/5881 [==============================] - 1s 85us/step - loss: 0.0612 - acc: 0.9740 - val_loss: 0.1694 - val_acc: 0.9354\n",
      "Epoch 22/100\n",
      "5881/5881 [==============================] - 0s 48us/step - loss: 0.0674 - acc: 0.9745 - val_loss: 0.1610 - val_acc: 0.9368\n",
      "Epoch 23/100\n",
      "5881/5881 [==============================] - 0s 84us/step - loss: 0.0535 - acc: 0.9787 - val_loss: 0.1734 - val_acc: 0.9388\n",
      "Epoch 24/100\n",
      "5881/5881 [==============================] - 1s 87us/step - loss: 0.0636 - acc: 0.9726 - val_loss: 0.1837 - val_acc: 0.9388\n",
      "Epoch 25/100\n",
      "5881/5881 [==============================] - 1s 85us/step - loss: 0.0509 - acc: 0.9808 - val_loss: 0.2895 - val_acc: 0.9198\n",
      "Epoch 26/100\n",
      "5881/5881 [==============================] - 0s 65us/step - loss: 0.0487 - acc: 0.9823 - val_loss: 0.3734 - val_acc: 0.8749\n",
      "Epoch 27/100\n",
      "5881/5881 [==============================] - 0s 71us/step - loss: 0.0634 - acc: 0.9770 - val_loss: 0.2366 - val_acc: 0.9286\n",
      "Epoch 28/100\n",
      "5881/5881 [==============================] - 1s 95us/step - loss: 0.0507 - acc: 0.9786 - val_loss: 0.1592 - val_acc: 0.9443\n",
      "Epoch 29/100\n",
      "5881/5881 [==============================] - 0s 81us/step - loss: 0.0482 - acc: 0.9813 - val_loss: 0.1685 - val_acc: 0.9463\n",
      "Epoch 30/100\n",
      "5881/5881 [==============================] - 0s 66us/step - loss: 0.0546 - acc: 0.9803 - val_loss: 0.1869 - val_acc: 0.9443\n",
      "Epoch 31/100\n",
      "5881/5881 [==============================] - ETA: 0s - loss: 0.0429 - acc: 0.982 - 0s 83us/step - loss: 0.0433 - acc: 0.9821 - val_loss: 0.2484 - val_acc: 0.9375\n",
      "Epoch 32/100\n",
      "5881/5881 [==============================] - 0s 70us/step - loss: 0.0453 - acc: 0.9815 - val_loss: 0.2189 - val_acc: 0.9429\n",
      "Epoch 33/100\n",
      "5881/5881 [==============================] - 0s 66us/step - loss: 0.0412 - acc: 0.9862 - val_loss: 0.1747 - val_acc: 0.9490\n",
      "Epoch 34/100\n",
      "5881/5881 [==============================] - 0s 82us/step - loss: 0.0425 - acc: 0.9818 - val_loss: 0.2077 - val_acc: 0.9436\n",
      "Epoch 35/100\n",
      "5881/5881 [==============================] - 0s 79us/step - loss: 0.0395 - acc: 0.9837 - val_loss: 0.2251 - val_acc: 0.9449\n",
      "Epoch 36/100\n",
      "5881/5881 [==============================] - 0s 80us/step - loss: 0.0413 - acc: 0.9842 - val_loss: 0.1782 - val_acc: 0.9470\n",
      "Epoch 37/100\n",
      "5881/5881 [==============================] - 0s 77us/step - loss: 0.0428 - acc: 0.9821 - val_loss: 0.1743 - val_acc: 0.9456\n",
      "Epoch 38/100\n",
      "5881/5881 [==============================] - 0s 76us/step - loss: 0.0417 - acc: 0.9835 - val_loss: 0.1559 - val_acc: 0.9524\n",
      "Epoch 39/100\n",
      "5881/5881 [==============================] - 0s 66us/step - loss: 0.0364 - acc: 0.9864 - val_loss: 0.1923 - val_acc: 0.9477\n",
      "Epoch 40/100\n",
      "5881/5881 [==============================] - 0s 76us/step - loss: 0.0391 - acc: 0.9835 - val_loss: 0.1784 - val_acc: 0.9504\n",
      "Epoch 41/100\n",
      "5881/5881 [==============================] - 0s 76us/step - loss: 0.0616 - acc: 0.9796 - val_loss: 0.2008 - val_acc: 0.9456\n",
      "Epoch 42/100\n",
      "5881/5881 [==============================] - 0s 62us/step - loss: 0.0385 - acc: 0.9850 - val_loss: 0.3662 - val_acc: 0.9273\n",
      "Epoch 43/100\n",
      "5881/5881 [==============================] - 0s 85us/step - loss: 0.0354 - acc: 0.9852 - val_loss: 0.2082 - val_acc: 0.9511\n",
      "Epoch 44/100\n",
      "5881/5881 [==============================] - 0s 72us/step - loss: 0.0312 - acc: 0.9876 - val_loss: 0.2278 - val_acc: 0.9436\n",
      "Epoch 45/100\n",
      "5881/5881 [==============================] - 0s 61us/step - loss: 0.0379 - acc: 0.9864 - val_loss: 0.2249 - val_acc: 0.9477\n",
      "Epoch 46/100\n",
      "5881/5881 [==============================] - 0s 69us/step - loss: 0.0359 - acc: 0.9852 - val_loss: 0.2235 - val_acc: 0.9517\n",
      "Epoch 47/100\n",
      "5881/5881 [==============================] - 1s 88us/step - loss: 0.0365 - acc: 0.9852 - val_loss: 0.2310 - val_acc: 0.9436\n",
      "Epoch 48/100\n",
      "5881/5881 [==============================] - 1s 118us/step - loss: 0.0806 - acc: 0.9777 - val_loss: 0.2431 - val_acc: 0.9429\n",
      "Epoch 49/100\n",
      "5881/5881 [==============================] - 1s 102us/step - loss: 0.0301 - acc: 0.9893 - val_loss: 0.2384 - val_acc: 0.9436\n",
      "Epoch 50/100\n",
      "5881/5881 [==============================] - 0s 77us/step - loss: 0.0281 - acc: 0.9883 - val_loss: 0.1921 - val_acc: 0.9538\n",
      "Epoch 51/100\n",
      "5881/5881 [==============================] - 0s 78us/step - loss: 0.0253 - acc: 0.9910 - val_loss: 0.2869 - val_acc: 0.9443\n",
      "Epoch 52/100\n",
      "5881/5881 [==============================] - 1s 95us/step - loss: 0.0306 - acc: 0.9896 - val_loss: 0.1873 - val_acc: 0.9545\n",
      "Epoch 53/100\n",
      "5881/5881 [==============================] - 0s 52us/step - loss: 0.0261 - acc: 0.9895 - val_loss: 0.3439 - val_acc: 0.9402\n",
      "Epoch 54/100\n",
      "5881/5881 [==============================] - 0s 38us/step - loss: 0.0335 - acc: 0.9893 - val_loss: 0.1826 - val_acc: 0.9517\n",
      "Epoch 55/100\n",
      "5881/5881 [==============================] - 0s 53us/step - loss: 0.0234 - acc: 0.9915 - val_loss: 0.2348 - val_acc: 0.9551\n",
      "Epoch 56/100\n",
      "5881/5881 [==============================] - 0s 63us/step - loss: 0.0399 - acc: 0.9866 - val_loss: 0.1961 - val_acc: 0.9490\n",
      "Epoch 57/100\n",
      "5881/5881 [==============================] - 0s 56us/step - loss: 0.0232 - acc: 0.9906 - val_loss: 0.2615 - val_acc: 0.9504\n",
      "Epoch 58/100\n",
      "5881/5881 [==============================] - 0s 63us/step - loss: 0.0238 - acc: 0.9915 - val_loss: 0.1811 - val_acc: 0.9565\n",
      "Epoch 59/100\n",
      "5881/5881 [==============================] - 0s 57us/step - loss: 0.0408 - acc: 0.9862 - val_loss: 0.2354 - val_acc: 0.9490\n",
      "Epoch 60/100\n",
      "5881/5881 [==============================] - 0s 76us/step - loss: 0.0208 - acc: 0.9917 - val_loss: 0.1960 - val_acc: 0.9511\n",
      "Epoch 61/100\n",
      "5881/5881 [==============================] - 1s 92us/step - loss: 0.0218 - acc: 0.9930 - val_loss: 0.1994 - val_acc: 0.9558\n",
      "Epoch 62/100\n",
      "5881/5881 [==============================] - 0s 79us/step - loss: 0.0267 - acc: 0.9905 - val_loss: 0.2332 - val_acc: 0.9531\n",
      "Epoch 63/100\n",
      "5881/5881 [==============================] - 0s 47us/step - loss: 0.0192 - acc: 0.9929 - val_loss: 0.2359 - val_acc: 0.9531\n",
      "Epoch 64/100\n",
      "5881/5881 [==============================] - 0s 65us/step - loss: 0.0306 - acc: 0.9879 - val_loss: 0.2335 - val_acc: 0.9511\n",
      "Epoch 65/100\n",
      "5881/5881 [==============================] - 1s 95us/step - loss: 0.0201 - acc: 0.9932 - val_loss: 0.2233 - val_acc: 0.9551\n",
      "Epoch 66/100\n",
      "5881/5881 [==============================] - 1s 87us/step - loss: 0.0175 - acc: 0.9927 - val_loss: 0.3195 - val_acc: 0.9483\n",
      "Epoch 67/100\n",
      "5881/5881 [==============================] - 0s 70us/step - loss: 0.0150 - acc: 0.9951 - val_loss: 0.2357 - val_acc: 0.9511\n",
      "Epoch 68/100\n",
      "5881/5881 [==============================] - 0s 64us/step - loss: 0.0193 - acc: 0.9917 - val_loss: 0.2361 - val_acc: 0.9558\n",
      "Epoch 69/100\n",
      "5881/5881 [==============================] - 1s 91us/step - loss: 0.0215 - acc: 0.9922 - val_loss: 0.3619 - val_acc: 0.9443\n",
      "Epoch 70/100\n",
      "5881/5881 [==============================] - 1s 94us/step - loss: 0.0279 - acc: 0.9874 - val_loss: 0.2541 - val_acc: 0.9524\n",
      "Epoch 71/100\n",
      "5881/5881 [==============================] - 1s 91us/step - loss: 0.0953 - acc: 0.9759 - val_loss: 0.2810 - val_acc: 0.9218\n",
      "Epoch 72/100\n",
      "5881/5881 [==============================] - 0s 83us/step - loss: 0.0212 - acc: 0.9925 - val_loss: 0.2998 - val_acc: 0.9517\n",
      "Epoch 73/100\n",
      "5881/5881 [==============================] - 1s 91us/step - loss: 0.0215 - acc: 0.9920 - val_loss: 0.1988 - val_acc: 0.9517\n",
      "Epoch 74/100\n",
      "5881/5881 [==============================] - 0s 79us/step - loss: 0.0174 - acc: 0.9942 - val_loss: 0.7934 - val_acc: 0.9001\n",
      "Epoch 75/100\n",
      "5881/5881 [==============================] - 0s 83us/step - loss: 0.0206 - acc: 0.9929 - val_loss: 0.2203 - val_acc: 0.9565\n",
      "Epoch 76/100\n",
      "5881/5881 [==============================] - 0s 77us/step - loss: 0.0158 - acc: 0.9954 - val_loss: 0.3006 - val_acc: 0.9477\n",
      "Epoch 77/100\n",
      "5881/5881 [==============================] - 1s 89us/step - loss: 0.0316 - acc: 0.9905 - val_loss: 0.3161 - val_acc: 0.9463\n",
      "Epoch 78/100\n",
      "5881/5881 [==============================] - 0s 54us/step - loss: 0.0322 - acc: 0.9896 - val_loss: 0.1775 - val_acc: 0.9524\n",
      "Epoch 79/100\n",
      "5881/5881 [==============================] - 0s 60us/step - loss: 0.0181 - acc: 0.9935 - val_loss: 0.2191 - val_acc: 0.9504\n",
      "Epoch 80/100\n",
      "5881/5881 [==============================] - 1s 86us/step - loss: 0.0139 - acc: 0.9956 - val_loss: 0.2826 - val_acc: 0.9538\n",
      "Epoch 81/100\n",
      "5881/5881 [==============================] - 0s 63us/step - loss: 0.0087 - acc: 0.9980 - val_loss: 0.3128 - val_acc: 0.9531\n",
      "Epoch 82/100\n",
      "5881/5881 [==============================] - 0s 62us/step - loss: 0.0328 - acc: 0.9878 - val_loss: 0.2437 - val_acc: 0.9524\n",
      "Epoch 83/100\n",
      "5881/5881 [==============================] - 0s 56us/step - loss: 0.0091 - acc: 0.9973 - val_loss: 0.2586 - val_acc: 0.9538\n",
      "Epoch 84/100\n",
      "5881/5881 [==============================] - 0s 65us/step - loss: 0.0095 - acc: 0.9976 - val_loss: 0.2199 - val_acc: 0.9592\n",
      "Epoch 85/100\n",
      "5881/5881 [==============================] - 0s 46us/step - loss: 0.0245 - acc: 0.9944 - val_loss: 0.2327 - val_acc: 0.9558\n",
      "Epoch 86/100\n",
      "5881/5881 [==============================] - 0s 53us/step - loss: 0.0083 - acc: 0.9978 - val_loss: 0.2266 - val_acc: 0.9551\n",
      "Epoch 87/100\n",
      "5881/5881 [==============================] - 0s 63us/step - loss: 0.0098 - acc: 0.9961 - val_loss: 0.2396 - val_acc: 0.9538\n",
      "Epoch 88/100\n",
      "5881/5881 [==============================] - 0s 60us/step - loss: 0.0139 - acc: 0.9940 - val_loss: 0.2657 - val_acc: 0.9538\n",
      "Epoch 89/100\n",
      "5881/5881 [==============================] - ETA: 0s - loss: 0.0077 - acc: 0.997 - 0s 65us/step - loss: 0.0078 - acc: 0.9974 - val_loss: 0.3168 - val_acc: 0.9531\n",
      "Epoch 90/100\n",
      "5881/5881 [==============================] - 0s 63us/step - loss: 0.0070 - acc: 0.9980 - val_loss: 0.2262 - val_acc: 0.9551\n",
      "Epoch 91/100\n",
      "5881/5881 [==============================] - 0s 56us/step - loss: 0.0086 - acc: 0.9971 - val_loss: 0.2942 - val_acc: 0.9551\n",
      "Epoch 92/100\n",
      "5881/5881 [==============================] - 0s 62us/step - loss: 0.0063 - acc: 0.9983 - val_loss: 0.2352 - val_acc: 0.9558\n",
      "Epoch 93/100\n",
      "5881/5881 [==============================] - 0s 57us/step - loss: 0.0107 - acc: 0.9969 - val_loss: 0.2795 - val_acc: 0.9551\n",
      "Epoch 94/100\n",
      "5881/5881 [==============================] - 0s 50us/step - loss: 0.0084 - acc: 0.9973 - val_loss: 0.2622 - val_acc: 0.9545\n",
      "Epoch 95/100\n",
      "5881/5881 [==============================] - 0s 66us/step - loss: 0.0089 - acc: 0.9964 - val_loss: 0.3344 - val_acc: 0.9531\n",
      "Epoch 96/100\n",
      "5881/5881 [==============================] - 0s 58us/step - loss: 0.0076 - acc: 0.9973 - val_loss: 0.2436 - val_acc: 0.9558\n",
      "Epoch 97/100\n",
      "5881/5881 [==============================] - 0s 70us/step - loss: 0.0081 - acc: 0.9974 - val_loss: 0.2516 - val_acc: 0.9551\n",
      "Epoch 98/100\n",
      "5881/5881 [==============================] - 0s 59us/step - loss: 0.0040 - acc: 0.9988 - val_loss: 0.2473 - val_acc: 0.9599\n",
      "Epoch 99/100\n",
      "5881/5881 [==============================] - 0s 65us/step - loss: 0.0066 - acc: 0.9978 - val_loss: 0.2731 - val_acc: 0.9585\n",
      "Epoch 100/100\n",
      "5881/5881 [==============================] - 0s 67us/step - loss: 0.0122 - acc: 0.9957 - val_loss: 0.2498 - val_acc: 0.9538\n"
     ]
    }
   ],
   "source": [
    "bst_lr_model_history = bst_lr_model.fit(X_train, y_train, epochs=100, batch_size=64, validation_split=0.2, shuffle=True)"
   ]
  },
  {
   "cell_type": "code",
   "execution_count": 49,
   "metadata": {},
   "outputs": [
    {
     "name": "stdout",
     "output_type": "stream",
     "text": [
      "dict_keys(['val_loss', 'val_acc', 'loss', 'acc'])\n"
     ]
    }
   ],
   "source": [
    "print(bst_lr_model_history.history.keys())"
   ]
  },
  {
   "cell_type": "code",
   "execution_count": 50,
   "metadata": {},
   "outputs": [
    {
     "data": {
      "image/png": "[encoded data removed]",
      "text/plain": [
       "<Figure size 432x288 with 1 Axes>"
      ]
     },
     "metadata": {
      "needs_background": "light"
     },
     "output_type": "display_data"
    },
    {
     "data": {
      "image/png": "[encoded data removed]",
      "text/plain": [
       "<Figure size 432x288 with 1 Axes>"
      ]
     },
     "metadata": {
      "needs_background": "light"
     },
     "output_type": "display_data"
    }
   ],
   "source": [
    "plt.plot(bst_lr_model_history.history['acc'])\n",
    "plt.plot(bst_lr_model_history.history['val_acc'])\n",
    "plt.title('Accuracy Plot')\n",
    "plt.ylabel('Accuracy')\n",
    "plt.xlabel('Epoch')\n",
    "plt.legend(['Train', 'Validation'])\n",
    "plt.show() \n",
    "plt.plot(bst_lr_model_history.history['loss'])\n",
    "plt.plot(bst_lr_model_history.history['val_loss'])\n",
    "plt.title('Loss Function Plot')\n",
    "plt.ylabel('Loss')\n",
    "plt.xlabel('Epoch')\n",
    "plt.legend(['Train', 'Validation'])\n",
    "plt.show()"
   ]
  }
 ],
 "metadata": {
  "kernelspec": {
   "display_name": "Python 3",
   "language": "python",
   "name": "python3"
  },
  "language_info": {
   "codemirror_mode": {
    "name": "ipython",
    "version": 3
   },
   "file_extension": ".py",
   "mimetype": "text/x-python",
   "name": "python",
   "nbconvert_exporter": "python",
   "pygments_lexer": "ipython3",
   "version": "3.6.9"
  }
 },
 "nbformat": 4,
 "nbformat_minor": 2
}
