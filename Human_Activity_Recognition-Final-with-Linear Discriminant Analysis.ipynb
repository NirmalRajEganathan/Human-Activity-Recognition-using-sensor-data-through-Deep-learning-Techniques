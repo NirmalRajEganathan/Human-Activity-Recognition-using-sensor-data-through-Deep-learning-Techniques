{
 "cells": [
  {
   "cell_type": "markdown",
   "metadata": {},
   "source": [
    "<div class=\"alert alert-block alert-info\" align=left><b></b>\n",
    "Human Activity Recognition"
   ]
  },
  {
   "cell_type": "code",
   "execution_count": 1,
   "metadata": {},
   "outputs": [],
   "source": [
    "import pandas as pd\n",
    "import numpy as np\n",
    "import matplotlib.pyplot as plt\n",
    "plt.style.use('ggplot')\n",
    "%matplotlib inline\n",
    "import seaborn as sns\n",
    "import os"
   ]
  },
  {
   "cell_type": "code",
   "execution_count": 2,
   "metadata": {},
   "outputs": [],
   "source": [
    "os.chdir(\"C:/Users/Nirmal Raj/Downloads/Class_sudeshna Sarkar/Intern insofe/UCI HAR Dataset/UCI HAR Dataset/Files\")"
   ]
  },
  {
   "cell_type": "code",
   "execution_count": 3,
   "metadata": {},
   "outputs": [
    {
     "data": {
      "text/plain": [
       "'C:\\\\Users\\\\Nirmal Raj\\\\Downloads\\\\Class_sudeshna Sarkar\\\\Intern insofe\\\\UCI HAR Dataset\\\\UCI HAR Dataset\\\\Files'"
      ]
     },
     "execution_count": 3,
     "metadata": {},
     "output_type": "execute_result"
    }
   ],
   "source": [
    "os.getcwd()"
   ]
  },
  {
   "cell_type": "code",
   "execution_count": 4,
   "metadata": {
    "scrolled": false
   },
   "outputs": [],
   "source": [
    "data = pd.read_csv('X_train.txt',sep = \"\\t\",header = None)\n",
    "data1 = pd.read_csv('y_train.txt',sep = \"\\t\",header = None)\n",
    "data2 = pd.read_csv('X_test.txt',sep = \"\\t\",header = None)\n",
    "data3 = pd.read_csv('y_test.txt',sep = \"\\t\",header = None)\n",
    "#subject_train  = pd.read_csv('subject_train.txt',header = None)\n",
    "#subject_test = pd.read_csv('subject_test.txt',header = None)"
   ]
  },
  {
   "cell_type": "code",
   "execution_count": 5,
   "metadata": {},
   "outputs": [],
   "source": [
    "X_tra = [[float(number) for number in data[0].iloc[line].split()] for line in range(len(data))]\n",
    "X_te = [[float(number) for number in data2[0].iloc[line].split()] for line in range(len(data2))]\n",
    "X_tr = pd.DataFrame(X_tra)\n",
    "X_ts = pd.DataFrame(X_te)"
   ]
  },
  {
   "cell_type": "code",
   "execution_count": 6,
   "metadata": {},
   "outputs": [],
   "source": [
    "features = pd.read_csv('features.txt',sep = \"\\t\",header = None)\n",
    "features['col_name'] = str(0)\n",
    "for i in range(len(features)):\n",
    "    words = features[0].iloc[i].split()\n",
    "    features['col_name'].iloc[i] = words[1]"
   ]
  },
  {
   "cell_type": "code",
   "execution_count": 7,
   "metadata": {},
   "outputs": [],
   "source": [
    "Features = features.drop([0], axis=1)"
   ]
  },
  {
   "cell_type": "code",
   "execution_count": 8,
   "metadata": {},
   "outputs": [
    {
     "name": "stdout",
     "output_type": "stream",
     "text": [
      "X_train :  (7352, 561)\n",
      "X_test :  (2947, 561)\n"
     ]
    }
   ],
   "source": [
    "X_tr.columns = X_tr.columns[:0].tolist() + Features['col_name'].values.tolist()\n",
    "X_ts.columns = X_ts.columns[:0].tolist() + Features['col_name'].values.tolist()\n",
    "X_train = X_tr\n",
    "X_test = X_ts\n",
    "print(\"X_train : \",X_train.shape)\n",
    "print(\"X_test : \",X_test.shape)"
   ]
  },
  {
   "cell_type": "code",
   "execution_count": 9,
   "metadata": {},
   "outputs": [
    {
     "name": "stdout",
     "output_type": "stream",
     "text": [
      "y_train :  (7352, 1)\n",
      "y_test :  (2947, 1)\n"
     ]
    }
   ],
   "source": [
    "y_train = data1.rename(columns = {0:\"Activity\"})\n",
    "y_test = data3.rename(columns = {0:\"Activity\"})\n",
    "print(\"y_train : \",y_train.shape)\n",
    "print(\"y_test : \",y_test.shape)"
   ]
  },
  {
   "cell_type": "code",
   "execution_count": 10,
   "metadata": {},
   "outputs": [
    {
     "name": "stdout",
     "output_type": "stream",
     "text": [
      "X_train :  (7352, 561)\n",
      "X_test :  (2947, 561)\n",
      "y_train :  (7352, 1)\n",
      "y_test :  (2947, 1)\n"
     ]
    }
   ],
   "source": [
    "# sub_train = subject_train.rename(columns = {0:'Subject'})\n",
    "# sub_test = subject_test.rename(columns = {0:'Subject'})\n",
    "# X_train['Subject'] = sub_train\n",
    "# X_test['Subject'] = sub_test\n",
    "print(\"X_train : \",X_train.shape)\n",
    "print(\"X_test : \",X_test.shape)\n",
    "print(\"y_train : \",y_train.shape)\n",
    "print(\"y_test : \",y_test.shape)"
   ]
  },
  {
   "cell_type": "code",
   "execution_count": 11,
   "metadata": {},
   "outputs": [],
   "source": [
    "y_train.Activity.replace([1,2,3,4,5,6],['WALKING','WALKING_UPSTAIRS','WALKING_DOWNSTAIRS','SITTING','STANDING','LAYING'],inplace=True)\n",
    "y_test.Activity.replace([1,2,3,4,5,6],['WALKING','WALKING_UPSTAIRS','WALKING_DOWNSTAIRS','SITTING','STANDING','LAYING'],inplace=True)"
   ]
  },
  {
   "cell_type": "code",
   "execution_count": 12,
   "metadata": {},
   "outputs": [],
   "source": [
    "train = pd.concat([X_train,y_train],axis = 1)\n",
    "test = pd.concat([X_test,y_test],axis = 1)"
   ]
  },
  {
   "cell_type": "code",
   "execution_count": 13,
   "metadata": {},
   "outputs": [
    {
     "name": "stdout",
     "output_type": "stream",
     "text": [
      "Train Shape :  (7352, 562)\n",
      "Test Shape :  (2947, 562)\n"
     ]
    }
   ],
   "source": [
    "print('Train Shape : ',train.shape)\n",
    "print('Test Shape : ',test.shape)"
   ]
  },
  {
   "cell_type": "code",
   "execution_count": 14,
   "metadata": {},
   "outputs": [
    {
     "data": {
      "text/html": [
       "<div>\n",
       "<style scoped>\n",
       "    .dataframe tbody tr th:only-of-type {\n",
       "        vertical-align: middle;\n",
       "    }\n",
       "\n",
       "    .dataframe tbody tr th {\n",
       "        vertical-align: top;\n",
       "    }\n",
       "\n",
       "    .dataframe thead th {\n",
       "        text-align: right;\n",
       "    }\n",
       "</style>\n",
       "<table border=\"1\" class=\"dataframe\">\n",
       "  <thead>\n",
       "    <tr style=\"text-align: right;\">\n",
       "      <th></th>\n",
       "      <th>tBodyAcc-mean()-X</th>\n",
       "      <th>tBodyAcc-mean()-Y</th>\n",
       "      <th>tBodyAcc-mean()-Z</th>\n",
       "      <th>tBodyAcc-std()-X</th>\n",
       "      <th>tBodyAcc-std()-Y</th>\n",
       "      <th>tBodyAcc-std()-Z</th>\n",
       "      <th>tBodyAcc-mad()-X</th>\n",
       "      <th>tBodyAcc-mad()-Y</th>\n",
       "      <th>tBodyAcc-mad()-Z</th>\n",
       "      <th>tBodyAcc-max()-X</th>\n",
       "      <th>...</th>\n",
       "      <th>fBodyBodyGyroJerkMag-meanFreq()</th>\n",
       "      <th>fBodyBodyGyroJerkMag-skewness()</th>\n",
       "      <th>fBodyBodyGyroJerkMag-kurtosis()</th>\n",
       "      <th>angle(tBodyAccMean,gravity)</th>\n",
       "      <th>angle(tBodyAccJerkMean),gravityMean)</th>\n",
       "      <th>angle(tBodyGyroMean,gravityMean)</th>\n",
       "      <th>angle(tBodyGyroJerkMean,gravityMean)</th>\n",
       "      <th>angle(X,gravityMean)</th>\n",
       "      <th>angle(Y,gravityMean)</th>\n",
       "      <th>angle(Z,gravityMean)</th>\n",
       "    </tr>\n",
       "  </thead>\n",
       "  <tbody>\n",
       "    <tr>\n",
       "      <th>count</th>\n",
       "      <td>7352.000000</td>\n",
       "      <td>7352.000000</td>\n",
       "      <td>7352.000000</td>\n",
       "      <td>7352.000000</td>\n",
       "      <td>7352.000000</td>\n",
       "      <td>7352.000000</td>\n",
       "      <td>7352.000000</td>\n",
       "      <td>7352.000000</td>\n",
       "      <td>7352.000000</td>\n",
       "      <td>7352.000000</td>\n",
       "      <td>...</td>\n",
       "      <td>7352.000000</td>\n",
       "      <td>7352.000000</td>\n",
       "      <td>7352.000000</td>\n",
       "      <td>7352.000000</td>\n",
       "      <td>7352.000000</td>\n",
       "      <td>7352.000000</td>\n",
       "      <td>7352.000000</td>\n",
       "      <td>7352.000000</td>\n",
       "      <td>7352.000000</td>\n",
       "      <td>7352.000000</td>\n",
       "    </tr>\n",
       "    <tr>\n",
       "      <th>mean</th>\n",
       "      <td>0.274488</td>\n",
       "      <td>-0.017695</td>\n",
       "      <td>-0.109141</td>\n",
       "      <td>-0.605438</td>\n",
       "      <td>-0.510938</td>\n",
       "      <td>-0.604754</td>\n",
       "      <td>-0.630512</td>\n",
       "      <td>-0.526907</td>\n",
       "      <td>-0.606150</td>\n",
       "      <td>-0.468604</td>\n",
       "      <td>...</td>\n",
       "      <td>0.125293</td>\n",
       "      <td>-0.307009</td>\n",
       "      <td>-0.625294</td>\n",
       "      <td>0.008684</td>\n",
       "      <td>0.002186</td>\n",
       "      <td>0.008726</td>\n",
       "      <td>-0.005981</td>\n",
       "      <td>-0.489547</td>\n",
       "      <td>0.058593</td>\n",
       "      <td>-0.056515</td>\n",
       "    </tr>\n",
       "    <tr>\n",
       "      <th>std</th>\n",
       "      <td>0.070261</td>\n",
       "      <td>0.040811</td>\n",
       "      <td>0.056635</td>\n",
       "      <td>0.448734</td>\n",
       "      <td>0.502645</td>\n",
       "      <td>0.418687</td>\n",
       "      <td>0.424073</td>\n",
       "      <td>0.485942</td>\n",
       "      <td>0.414122</td>\n",
       "      <td>0.544547</td>\n",
       "      <td>...</td>\n",
       "      <td>0.250994</td>\n",
       "      <td>0.321011</td>\n",
       "      <td>0.307584</td>\n",
       "      <td>0.336787</td>\n",
       "      <td>0.448306</td>\n",
       "      <td>0.608303</td>\n",
       "      <td>0.477975</td>\n",
       "      <td>0.511807</td>\n",
       "      <td>0.297480</td>\n",
       "      <td>0.279122</td>\n",
       "    </tr>\n",
       "    <tr>\n",
       "      <th>min</th>\n",
       "      <td>-1.000000</td>\n",
       "      <td>-1.000000</td>\n",
       "      <td>-1.000000</td>\n",
       "      <td>-1.000000</td>\n",
       "      <td>-0.999873</td>\n",
       "      <td>-1.000000</td>\n",
       "      <td>-1.000000</td>\n",
       "      <td>-1.000000</td>\n",
       "      <td>-1.000000</td>\n",
       "      <td>-1.000000</td>\n",
       "      <td>...</td>\n",
       "      <td>-1.000000</td>\n",
       "      <td>-0.995357</td>\n",
       "      <td>-0.999765</td>\n",
       "      <td>-0.976580</td>\n",
       "      <td>-1.000000</td>\n",
       "      <td>-1.000000</td>\n",
       "      <td>-1.000000</td>\n",
       "      <td>-1.000000</td>\n",
       "      <td>-1.000000</td>\n",
       "      <td>-1.000000</td>\n",
       "    </tr>\n",
       "    <tr>\n",
       "      <th>25%</th>\n",
       "      <td>0.262975</td>\n",
       "      <td>-0.024863</td>\n",
       "      <td>-0.120993</td>\n",
       "      <td>-0.992754</td>\n",
       "      <td>-0.978129</td>\n",
       "      <td>-0.980233</td>\n",
       "      <td>-0.993591</td>\n",
       "      <td>-0.978162</td>\n",
       "      <td>-0.980251</td>\n",
       "      <td>-0.936219</td>\n",
       "      <td>...</td>\n",
       "      <td>-0.023692</td>\n",
       "      <td>-0.542602</td>\n",
       "      <td>-0.845573</td>\n",
       "      <td>-0.121527</td>\n",
       "      <td>-0.289549</td>\n",
       "      <td>-0.482273</td>\n",
       "      <td>-0.376341</td>\n",
       "      <td>-0.812065</td>\n",
       "      <td>-0.017885</td>\n",
       "      <td>-0.143414</td>\n",
       "    </tr>\n",
       "    <tr>\n",
       "      <th>50%</th>\n",
       "      <td>0.277193</td>\n",
       "      <td>-0.017219</td>\n",
       "      <td>-0.108676</td>\n",
       "      <td>-0.946196</td>\n",
       "      <td>-0.851897</td>\n",
       "      <td>-0.859365</td>\n",
       "      <td>-0.950709</td>\n",
       "      <td>-0.857328</td>\n",
       "      <td>-0.857143</td>\n",
       "      <td>-0.881637</td>\n",
       "      <td>...</td>\n",
       "      <td>0.134000</td>\n",
       "      <td>-0.343685</td>\n",
       "      <td>-0.711692</td>\n",
       "      <td>0.009509</td>\n",
       "      <td>0.008943</td>\n",
       "      <td>0.008735</td>\n",
       "      <td>-0.000368</td>\n",
       "      <td>-0.709417</td>\n",
       "      <td>0.182071</td>\n",
       "      <td>0.003181</td>\n",
       "    </tr>\n",
       "    <tr>\n",
       "      <th>75%</th>\n",
       "      <td>0.288461</td>\n",
       "      <td>-0.010783</td>\n",
       "      <td>-0.097794</td>\n",
       "      <td>-0.242813</td>\n",
       "      <td>-0.034231</td>\n",
       "      <td>-0.262415</td>\n",
       "      <td>-0.292680</td>\n",
       "      <td>-0.066701</td>\n",
       "      <td>-0.265671</td>\n",
       "      <td>-0.017129</td>\n",
       "      <td>...</td>\n",
       "      <td>0.289096</td>\n",
       "      <td>-0.126979</td>\n",
       "      <td>-0.503878</td>\n",
       "      <td>0.150865</td>\n",
       "      <td>0.292861</td>\n",
       "      <td>0.506187</td>\n",
       "      <td>0.359368</td>\n",
       "      <td>-0.509079</td>\n",
       "      <td>0.248353</td>\n",
       "      <td>0.107659</td>\n",
       "    </tr>\n",
       "    <tr>\n",
       "      <th>max</th>\n",
       "      <td>1.000000</td>\n",
       "      <td>1.000000</td>\n",
       "      <td>1.000000</td>\n",
       "      <td>1.000000</td>\n",
       "      <td>0.916238</td>\n",
       "      <td>1.000000</td>\n",
       "      <td>1.000000</td>\n",
       "      <td>0.967664</td>\n",
       "      <td>1.000000</td>\n",
       "      <td>1.000000</td>\n",
       "      <td>...</td>\n",
       "      <td>0.946700</td>\n",
       "      <td>0.989538</td>\n",
       "      <td>0.956845</td>\n",
       "      <td>1.000000</td>\n",
       "      <td>1.000000</td>\n",
       "      <td>0.998702</td>\n",
       "      <td>0.996078</td>\n",
       "      <td>1.000000</td>\n",
       "      <td>0.478157</td>\n",
       "      <td>1.000000</td>\n",
       "    </tr>\n",
       "  </tbody>\n",
       "</table>\n",
       "<p>8 rows × 561 columns</p>\n",
       "</div>"
      ],
      "text/plain": [
       "       tBodyAcc-mean()-X  tBodyAcc-mean()-Y  tBodyAcc-mean()-Z  \\\n",
       "count        7352.000000        7352.000000        7352.000000   \n",
       "mean            0.274488          -0.017695          -0.109141   \n",
       "std             0.070261           0.040811           0.056635   \n",
       "min            -1.000000          -1.000000          -1.000000   \n",
       "25%             0.262975          -0.024863          -0.120993   \n",
       "50%             0.277193          -0.017219          -0.108676   \n",
       "75%             0.288461          -0.010783          -0.097794   \n",
       "max             1.000000           1.000000           1.000000   \n",
       "\n",
       "       tBodyAcc-std()-X  tBodyAcc-std()-Y  tBodyAcc-std()-Z  tBodyAcc-mad()-X  \\\n",
       "count       7352.000000       7352.000000       7352.000000       7352.000000   \n",
       "mean          -0.605438         -0.510938         -0.604754         -0.630512   \n",
       "std            0.448734          0.502645          0.418687          0.424073   \n",
       "min           -1.000000         -0.999873         -1.000000         -1.000000   \n",
       "25%           -0.992754         -0.978129         -0.980233         -0.993591   \n",
       "50%           -0.946196         -0.851897         -0.859365         -0.950709   \n",
       "75%           -0.242813         -0.034231         -0.262415         -0.292680   \n",
       "max            1.000000          0.916238          1.000000          1.000000   \n",
       "\n",
       "       tBodyAcc-mad()-Y  tBodyAcc-mad()-Z  tBodyAcc-max()-X  ...  \\\n",
       "count       7352.000000       7352.000000       7352.000000  ...   \n",
       "mean          -0.526907         -0.606150         -0.468604  ...   \n",
       "std            0.485942          0.414122          0.544547  ...   \n",
       "min           -1.000000         -1.000000         -1.000000  ...   \n",
       "25%           -0.978162         -0.980251         -0.936219  ...   \n",
       "50%           -0.857328         -0.857143         -0.881637  ...   \n",
       "75%           -0.066701         -0.265671         -0.017129  ...   \n",
       "max            0.967664          1.000000          1.000000  ...   \n",
       "\n",
       "       fBodyBodyGyroJerkMag-meanFreq()  fBodyBodyGyroJerkMag-skewness()  \\\n",
       "count                      7352.000000                      7352.000000   \n",
       "mean                          0.125293                        -0.307009   \n",
       "std                           0.250994                         0.321011   \n",
       "min                          -1.000000                        -0.995357   \n",
       "25%                          -0.023692                        -0.542602   \n",
       "50%                           0.134000                        -0.343685   \n",
       "75%                           0.289096                        -0.126979   \n",
       "max                           0.946700                         0.989538   \n",
       "\n",
       "       fBodyBodyGyroJerkMag-kurtosis()  angle(tBodyAccMean,gravity)  \\\n",
       "count                      7352.000000                  7352.000000   \n",
       "mean                         -0.625294                     0.008684   \n",
       "std                           0.307584                     0.336787   \n",
       "min                          -0.999765                    -0.976580   \n",
       "25%                          -0.845573                    -0.121527   \n",
       "50%                          -0.711692                     0.009509   \n",
       "75%                          -0.503878                     0.150865   \n",
       "max                           0.956845                     1.000000   \n",
       "\n",
       "       angle(tBodyAccJerkMean),gravityMean)  angle(tBodyGyroMean,gravityMean)  \\\n",
       "count                           7352.000000                       7352.000000   \n",
       "mean                               0.002186                          0.008726   \n",
       "std                                0.448306                          0.608303   \n",
       "min                               -1.000000                         -1.000000   \n",
       "25%                               -0.289549                         -0.482273   \n",
       "50%                                0.008943                          0.008735   \n",
       "75%                                0.292861                          0.506187   \n",
       "max                                1.000000                          0.998702   \n",
       "\n",
       "       angle(tBodyGyroJerkMean,gravityMean)  angle(X,gravityMean)  \\\n",
       "count                           7352.000000           7352.000000   \n",
       "mean                              -0.005981             -0.489547   \n",
       "std                                0.477975              0.511807   \n",
       "min                               -1.000000             -1.000000   \n",
       "25%                               -0.376341             -0.812065   \n",
       "50%                               -0.000368             -0.709417   \n",
       "75%                                0.359368             -0.509079   \n",
       "max                                0.996078              1.000000   \n",
       "\n",
       "       angle(Y,gravityMean)  angle(Z,gravityMean)  \n",
       "count           7352.000000           7352.000000  \n",
       "mean               0.058593             -0.056515  \n",
       "std                0.297480              0.279122  \n",
       "min               -1.000000             -1.000000  \n",
       "25%               -0.017885             -0.143414  \n",
       "50%                0.182071              0.003181  \n",
       "75%                0.248353              0.107659  \n",
       "max                0.478157              1.000000  \n",
       "\n",
       "[8 rows x 561 columns]"
      ]
     },
     "execution_count": 14,
     "metadata": {},
     "output_type": "execute_result"
    }
   ],
   "source": [
    "train.describe()"
   ]
  },
  {
   "cell_type": "code",
   "execution_count": 15,
   "metadata": {},
   "outputs": [
    {
     "data": {
      "image/png": "[encoded data removed]",
      "text/plain": [
       "<Figure size 432x288 with 1 Axes>"
      ]
     },
     "metadata": {
      "needs_background": "light"
     },
     "output_type": "display_data"
    }
   ],
   "source": [
    "ax = sns.countplot(y = train['Activity'])\n",
    "ax.set_title('Distribution of Labels')\n",
    "plt.show()"
   ]
  },
  {
   "cell_type": "code",
   "execution_count": 16,
   "metadata": {},
   "outputs": [
    {
     "name": "stdout",
     "output_type": "stream",
     "text": [
      "X_train :  (7352, 561)\n",
      "y_train :  (7352,)\n"
     ]
    }
   ],
   "source": [
    "y_train=train['Activity']\n",
    "X_train=train.drop('Activity',axis=1)\n",
    "print('X_train : ',X_train.shape)\n",
    "print('y_train : ',y_train.shape)"
   ]
  },
  {
   "cell_type": "code",
   "execution_count": 17,
   "metadata": {},
   "outputs": [
    {
     "name": "stdout",
     "output_type": "stream",
     "text": [
      "X_test :  (2947, 561)\n",
      "y_test :  (2947,)\n"
     ]
    }
   ],
   "source": [
    "y_test=test['Activity']\n",
    "X_test=test.drop('Activity',axis=1)\n",
    "print('X_test : ',X_test.shape)\n",
    "print('y_test : ',y_test.shape)"
   ]
  },
  {
   "cell_type": "code",
   "execution_count": 18,
   "metadata": {},
   "outputs": [],
   "source": [
    "from sklearn.preprocessing import StandardScaler\n",
    "sc = StandardScaler()\n",
    "X_train = sc.fit_transform(X_train)\n",
    "X_test = sc.transform(X_test)"
   ]
  },
  {
   "cell_type": "markdown",
   "metadata": {},
   "source": [
    "### Applying LDA"
   ]
  },
  {
   "cell_type": "code",
   "execution_count": 19,
   "metadata": {},
   "outputs": [
    {
     "name": "stderr",
     "output_type": "stream",
     "text": [
      "C:\\ProgramData\\Anaconda3\\lib\\site-packages\\sklearn\\discriminant_analysis.py:388: UserWarning: Variables are collinear.\n",
      "  warnings.warn(\"Variables are collinear.\")\n"
     ]
    }
   ],
   "source": [
    "from sklearn.discriminant_analysis import LinearDiscriminantAnalysis as LDA\n",
    "lda = LDA()\n",
    "X_train = lda.fit_transform(X_train,y_train)\n",
    "X_test = lda.transform(X_test)"
   ]
  },
  {
   "cell_type": "code",
   "execution_count": 20,
   "metadata": {},
   "outputs": [],
   "source": [
    "linear_components = pd.DataFrame(data = X_train,columns =['LD1','LD2','LD3','LD4','LD5'])"
   ]
  },
  {
   "cell_type": "code",
   "execution_count": 21,
   "metadata": {},
   "outputs": [
    {
     "data": {
      "text/html": [
       "<div>\n",
       "<style scoped>\n",
       "    .dataframe tbody tr th:only-of-type {\n",
       "        vertical-align: middle;\n",
       "    }\n",
       "\n",
       "    .dataframe tbody tr th {\n",
       "        vertical-align: top;\n",
       "    }\n",
       "\n",
       "    .dataframe thead th {\n",
       "        text-align: right;\n",
       "    }\n",
       "</style>\n",
       "<table border=\"1\" class=\"dataframe\">\n",
       "  <thead>\n",
       "    <tr style=\"text-align: right;\">\n",
       "      <th></th>\n",
       "      <th>LD1</th>\n",
       "      <th>LD2</th>\n",
       "      <th>LD3</th>\n",
       "      <th>LD4</th>\n",
       "      <th>LD5</th>\n",
       "    </tr>\n",
       "  </thead>\n",
       "  <tbody>\n",
       "    <tr>\n",
       "      <th>7349</th>\n",
       "      <td>14.363545</td>\n",
       "      <td>0.965910</td>\n",
       "      <td>0.187389</td>\n",
       "      <td>-6.604889</td>\n",
       "      <td>-1.077141</td>\n",
       "    </tr>\n",
       "    <tr>\n",
       "      <th>7350</th>\n",
       "      <td>14.592779</td>\n",
       "      <td>1.905171</td>\n",
       "      <td>-0.237764</td>\n",
       "      <td>-7.295756</td>\n",
       "      <td>-0.711986</td>\n",
       "    </tr>\n",
       "    <tr>\n",
       "      <th>7351</th>\n",
       "      <td>15.564010</td>\n",
       "      <td>2.154951</td>\n",
       "      <td>-0.500240</td>\n",
       "      <td>-6.360474</td>\n",
       "      <td>-0.488940</td>\n",
       "    </tr>\n",
       "  </tbody>\n",
       "</table>\n",
       "</div>"
      ],
      "text/plain": [
       "            LD1       LD2       LD3       LD4       LD5\n",
       "7349  14.363545  0.965910  0.187389 -6.604889 -1.077141\n",
       "7350  14.592779  1.905171 -0.237764 -7.295756 -0.711986\n",
       "7351  15.564010  2.154951 -0.500240 -6.360474 -0.488940"
      ]
     },
     "execution_count": 21,
     "metadata": {},
     "output_type": "execute_result"
    }
   ],
   "source": [
    "linear_components.tail(3)"
   ]
  },
  {
   "cell_type": "code",
   "execution_count": 22,
   "metadata": {},
   "outputs": [
    {
     "name": "stdout",
     "output_type": "stream",
     "text": [
      "Explained variation per principal component: [0.73179996 0.17624642 0.05461643 0.02824873 0.00908846]\n"
     ]
    }
   ],
   "source": [
    "print('Explained variation per principal component: {}'.format(lda.explained_variance_ratio_))"
   ]
  },
  {
   "cell_type": "code",
   "execution_count": 23,
   "metadata": {},
   "outputs": [
    {
     "data": {
      "text/plain": [
       "<matplotlib.legend.Legend at 0x24787d68>"
      ]
     },
     "execution_count": 23,
     "metadata": {},
     "output_type": "execute_result"
    },
    {
     "data": {
      "text/plain": [
       "<Figure size 432x288 with 0 Axes>"
      ]
     },
     "metadata": {},
     "output_type": "display_data"
    },
    {
     "data": {
      "image/png": "[encoded data removed]",
      "text/plain": [
       "<Figure size 432x360 with 1 Axes>"
      ]
     },
     "metadata": {
      "needs_background": "light"
     },
     "output_type": "display_data"
    }
   ],
   "source": [
    "plt.figure()\n",
    "plt.figure(figsize=(6,5))\n",
    "plt.xticks(fontsize=8)\n",
    "plt.yticks(fontsize=8)\n",
    "plt.xlabel('Linear Discriminant - 1',fontsize=10)\n",
    "plt.ylabel('Linear Discriminant - 2',fontsize=10)\n",
    "plt.title(\"Linear Discriminant Analysis\",fontsize=10)\n",
    "targets = ['WALKING','WALKING_UPSTAIRS','WALKING_DOWNSTAIRS','SITTING','STANDING','LAYING']\n",
    "colors = ['#f0a289','#4e35bd','#27ab30','#a82539','#26b5ae','#251b96']\n",
    "for target, color in zip(targets,colors):\n",
    "    indicesToKeep = train['Activity'] == target\n",
    "    plt.scatter(linear_components.loc[indicesToKeep, 'LD1']\n",
    "               ,linear_components.loc[indicesToKeep, 'LD2'], c = color, s = 5)\n",
    "\n",
    "plt.legend(targets,prop={'size': 8})"
   ]
  },
  {
   "cell_type": "code",
   "execution_count": 24,
   "metadata": {},
   "outputs": [
    {
     "name": "stdout",
     "output_type": "stream",
     "text": [
      "Random_Forest_Tuned : _Train_Accuracy : 0.9868063112078346\n",
      "Random_Forest_Tuned : _Test_Accuracy : 0.9599592806243638\n",
      "Duration: 0:00:59.677413\n",
      "--------------------------------------------------\n",
      "Xg_boost : _Train_Accuracy : 0.9912948857453754\n",
      "Xg_boost : _Test_Accuracy : 0.9538513742789277\n",
      "Duration: 0:00:05.205298\n",
      "--------------------------------------------------\n",
      "Bagging Classifier : _Train_Accuracy : 0.9982317736670294\n",
      "Bagging Classifier : _Test_Accuracy : 0.9626739056667798\n",
      "Duration: 0:00:00.311018\n",
      "--------------------------------------------------\n",
      "Support Vector Machines_Tuned : _Train_Accuracy : 0.9870783460282916\n",
      "Support Vector Machines_Tuned : _Test_Accuracy : 0.9643705463182898\n",
      "Duration: 0:00:47.653725\n",
      "--------------------------------------------------\n"
     ]
    }
   ],
   "source": [
    "from sklearn.metrics import confusion_matrix,accuracy_score\n",
    "from sklearn.tree import DecisionTreeClassifier\n",
    "from sklearn.ensemble import RandomForestClassifier,BaggingClassifier\n",
    "from xgboost import XGBClassifier\n",
    "from sklearn.svm import SVC\n",
    "from sklearn.model_selection import GridSearchCV\n",
    "from datetime import datetime\n",
    "\n",
    "sv = SVC()\n",
    "rf = RandomForestClassifier()\n",
    "\n",
    "param_grid_rf = {\"n_estimators\": [30,50,60],\n",
    "                 \"max_depth\": [2,3,5,7],\n",
    "                 \"min_samples_leaf\": [2, 4]}\n",
    "\n",
    "param_grid_sv = {'kernel': ['rbf','linear'], \n",
    "                  'gamma': [1e-3, 1e-4],\n",
    "                  'C'    : [1, 10, 100, 1000]}\n",
    "\n",
    "classifiers = [['Random_Forest_Tuned : ',GridSearchCV(rf,param_grid=param_grid_rf,cv=5,scoring='accuracy')],\n",
    "               ['Xg_boost : ',XGBClassifier()],\n",
    "               ['Bagging Classifier : ',BaggingClassifier()],\n",
    "               ['Support Vector Machines_Tuned : ',GridSearchCV(sv,param_grid=param_grid_sv,cv=5,scoring='accuracy')]]\n",
    "\n",
    "# class_predictions = []\n",
    "for name,model in classifiers:\n",
    "    model=model\n",
    "    start_time = datetime.now()\n",
    "    model.fit(X_train,y_train)\n",
    "    predictions = model.predict(X_train)\n",
    "    predictions1 = model.predict(X_test)\n",
    "#   class_predictions.append(accuracy_score(y_test,predictions))\n",
    "    print(f'{name}_Train_Accuracy :',accuracy_score(y_train,predictions))\n",
    "    print(f'{name}_Test_Accuracy :',accuracy_score(y_test,predictions1))\n",
    "    end_time = datetime.now()\n",
    "    print('Duration: {}'.format(end_time - start_time))\n",
    "    print('--------------------------------------------------')"
   ]
  },
  {
   "cell_type": "markdown",
   "metadata": {},
   "source": [
    "## Deep Neural Network Techniques with LDA"
   ]
  },
  {
   "cell_type": "code",
   "execution_count": 25,
   "metadata": {},
   "outputs": [],
   "source": [
    "X_train = pd.DataFrame(X_train)\n",
    "X_test = pd.DataFrame(X_test)"
   ]
  },
  {
   "cell_type": "code",
   "execution_count": 26,
   "metadata": {},
   "outputs": [
    {
     "data": {
      "text/plain": [
       "(2947, 5)"
      ]
     },
     "execution_count": 26,
     "metadata": {},
     "output_type": "execute_result"
    }
   ],
   "source": [
    "X_test.shape"
   ]
  },
  {
   "cell_type": "code",
   "execution_count": 27,
   "metadata": {},
   "outputs": [],
   "source": [
    "y_train = pd.get_dummies(y_train)\n",
    "y_test = pd.get_dummies(y_test)"
   ]
  },
  {
   "cell_type": "code",
   "execution_count": 28,
   "metadata": {},
   "outputs": [
    {
     "name": "stderr",
     "output_type": "stream",
     "text": [
      "Using TensorFlow backend.\n"
     ]
    },
    {
     "name": "stdout",
     "output_type": "stream",
     "text": [
      "WARNING:tensorflow:From C:\\ProgramData\\Anaconda3\\lib\\site-packages\\tensorflow\\python\\framework\\op_def_library.py:263: colocate_with (from tensorflow.python.framework.ops) is deprecated and will be removed in a future version.\n",
      "Instructions for updating:\n",
      "Colocations handled automatically by placer.\n",
      "WARNING:tensorflow:From C:\\ProgramData\\Anaconda3\\lib\\site-packages\\keras\\backend\\tensorflow_backend.py:3445: calling dropout (from tensorflow.python.ops.nn_ops) with keep_prob is deprecated and will be removed in a future version.\n",
      "Instructions for updating:\n",
      "Please use `rate` instead of `keep_prob`. Rate should be set to `rate = 1 - keep_prob`.\n"
     ]
    }
   ],
   "source": [
    "from keras.models import Sequential\n",
    "from keras.layers import Dense, Dropout,BatchNormalization\n",
    "from keras import optimizers\n",
    "import tensorflow as tf\n",
    "from keras.optimizers import SGD\n",
    "model = Sequential()\n",
    "model.add(Dense(64,activation='relu',input_dim=5))\n",
    "model.add(Dropout(0.5))\n",
    "model.add(Dense(64, activation='relu'))\n",
    "model.add(Dropout(0.5))\n",
    "model.add(Dense(6, activation='softmax'))\n",
    "sgd = SGD(lr=0.01, decay=1e-6, momentum=0.9, nesterov=True)\n",
    "model.compile(loss='categorical_crossentropy',optimizer=sgd,metrics=['accuracy'])"
   ]
  },
  {
   "cell_type": "code",
   "execution_count": 29,
   "metadata": {},
   "outputs": [
    {
     "name": "stdout",
     "output_type": "stream",
     "text": [
      "_________________________________________________________________\n",
      "Layer (type)                 Output Shape              Param #   \n",
      "=================================================================\n",
      "dense_1 (Dense)              (None, 64)                384       \n",
      "_________________________________________________________________\n",
      "dropout_1 (Dropout)          (None, 64)                0         \n",
      "_________________________________________________________________\n",
      "dense_2 (Dense)              (None, 64)                4160      \n",
      "_________________________________________________________________\n",
      "dropout_2 (Dropout)          (None, 64)                0         \n",
      "_________________________________________________________________\n",
      "dense_3 (Dense)              (None, 6)                 390       \n",
      "=================================================================\n",
      "Total params: 4,934\n",
      "Trainable params: 4,934\n",
      "Non-trainable params: 0\n",
      "_________________________________________________________________\n"
     ]
    }
   ],
   "source": [
    "model.summary()"
   ]
  },
  {
   "cell_type": "code",
   "execution_count": 30,
   "metadata": {
    "scrolled": true
   },
   "outputs": [
    {
     "name": "stdout",
     "output_type": "stream",
     "text": [
      "WARNING:tensorflow:From C:\\ProgramData\\Anaconda3\\lib\\site-packages\\tensorflow\\python\\ops\\math_ops.py:3066: to_int32 (from tensorflow.python.ops.math_ops) is deprecated and will be removed in a future version.\n",
      "Instructions for updating:\n",
      "Use tf.cast instead.\n",
      "Train on 7352 samples, validate on 2947 samples\n",
      "Epoch 1/50\n",
      "7352/7352 [==============================] - 1s 134us/step - loss: 0.6919 - acc: 0.7768 - val_loss: 0.1082 - val_acc: 0.9644\n",
      "Epoch 2/50\n",
      "7352/7352 [==============================] - 0s 36us/step - loss: 0.1665 - acc: 0.9445 - val_loss: 0.1058 - val_acc: 0.9630\n",
      "Epoch 3/50\n",
      "7352/7352 [==============================] - 0s 29us/step - loss: 0.1192 - acc: 0.9635 - val_loss: 0.1139 - val_acc: 0.9634\n",
      "Epoch 4/50\n",
      "7352/7352 [==============================] - 0s 49us/step - loss: 0.1114 - acc: 0.9689 - val_loss: 0.1167 - val_acc: 0.9623\n",
      "Epoch 5/50\n",
      "7352/7352 [==============================] - 1s 71us/step - loss: 0.0944 - acc: 0.9712 - val_loss: 0.1195 - val_acc: 0.9620\n",
      "Epoch 6/50\n",
      "7352/7352 [==============================] - 0s 57us/step - loss: 0.0844 - acc: 0.9736 - val_loss: 0.1514 - val_acc: 0.9583\n",
      "Epoch 7/50\n",
      "7352/7352 [==============================] - 0s 61us/step - loss: 0.0887 - acc: 0.9720 - val_loss: 0.1368 - val_acc: 0.9603\n",
      "Epoch 8/50\n",
      "7352/7352 [==============================] - 0s 53us/step - loss: 0.0830 - acc: 0.9748 - val_loss: 0.1244 - val_acc: 0.9661\n",
      "Epoch 9/50\n",
      "7352/7352 [==============================] - 0s 38us/step - loss: 0.0756 - acc: 0.9773 - val_loss: 0.1420 - val_acc: 0.9586\n",
      "Epoch 10/50\n",
      "7352/7352 [==============================] - 0s 30us/step - loss: 0.0685 - acc: 0.9799 - val_loss: 0.1490 - val_acc: 0.9600\n",
      "Epoch 11/50\n",
      "7352/7352 [==============================] - 0s 36us/step - loss: 0.0741 - acc: 0.9781 - val_loss: 0.1374 - val_acc: 0.9606\n",
      "Epoch 12/50\n",
      "7352/7352 [==============================] - 0s 33us/step - loss: 0.0698 - acc: 0.9763 - val_loss: 0.1391 - val_acc: 0.9606\n",
      "Epoch 13/50\n",
      "7352/7352 [==============================] - 0s 30us/step - loss: 0.0718 - acc: 0.9780 - val_loss: 0.1176 - val_acc: 0.9667\n",
      "Epoch 14/50\n",
      "7352/7352 [==============================] - 0s 39us/step - loss: 0.0683 - acc: 0.9774 - val_loss: 0.1434 - val_acc: 0.9620\n",
      "Epoch 15/50\n",
      "7352/7352 [==============================] - 0s 43us/step - loss: 0.0645 - acc: 0.9805 - val_loss: 0.1286 - val_acc: 0.9630\n",
      "Epoch 16/50\n",
      "7352/7352 [==============================] - 0s 37us/step - loss: 0.0634 - acc: 0.9797 - val_loss: 0.1434 - val_acc: 0.9603\n",
      "Epoch 17/50\n",
      "7352/7352 [==============================] - 0s 32us/step - loss: 0.0622 - acc: 0.9793 - val_loss: 0.1557 - val_acc: 0.9576\n",
      "Epoch 18/50\n",
      "7352/7352 [==============================] - 0s 48us/step - loss: 0.0650 - acc: 0.9797 - val_loss: 0.1418 - val_acc: 0.9640\n",
      "Epoch 19/50\n",
      "7352/7352 [==============================] - 0s 33us/step - loss: 0.0588 - acc: 0.9808 - val_loss: 0.1371 - val_acc: 0.9644\n",
      "Epoch 20/50\n",
      "7352/7352 [==============================] - 0s 37us/step - loss: 0.0561 - acc: 0.9829 - val_loss: 0.1317 - val_acc: 0.9640\n",
      "Epoch 21/50\n",
      "7352/7352 [==============================] - 0s 30us/step - loss: 0.0665 - acc: 0.9791 - val_loss: 0.1334 - val_acc: 0.9634\n",
      "Epoch 22/50\n",
      "7352/7352 [==============================] - 0s 31us/step - loss: 0.0536 - acc: 0.9831 - val_loss: 0.1424 - val_acc: 0.9620\n",
      "Epoch 23/50\n",
      "7352/7352 [==============================] - 0s 34us/step - loss: 0.0605 - acc: 0.9814 - val_loss: 0.1339 - val_acc: 0.9650\n",
      "Epoch 24/50\n",
      "7352/7352 [==============================] - 0s 32us/step - loss: 0.0546 - acc: 0.9816 - val_loss: 0.1336 - val_acc: 0.9634\n",
      "Epoch 25/50\n",
      "7352/7352 [==============================] - 0s 50us/step - loss: 0.0568 - acc: 0.9805 - val_loss: 0.1361 - val_acc: 0.9613\n",
      "Epoch 26/50\n",
      "7352/7352 [==============================] - 0s 32us/step - loss: 0.0582 - acc: 0.9803 - val_loss: 0.1452 - val_acc: 0.9586\n",
      "Epoch 27/50\n",
      "7352/7352 [==============================] - 0s 37us/step - loss: 0.0556 - acc: 0.9831 - val_loss: 0.1394 - val_acc: 0.9634\n",
      "Epoch 28/50\n",
      "7352/7352 [==============================] - 0s 38us/step - loss: 0.0590 - acc: 0.9810 - val_loss: 0.1539 - val_acc: 0.9593\n",
      "Epoch 29/50\n",
      "7352/7352 [==============================] - 0s 39us/step - loss: 0.0573 - acc: 0.9820 - val_loss: 0.1363 - val_acc: 0.9623\n",
      "Epoch 30/50\n",
      "7352/7352 [==============================] - 0s 31us/step - loss: 0.0567 - acc: 0.9826 - val_loss: 0.1465 - val_acc: 0.9603\n",
      "Epoch 31/50\n",
      "7352/7352 [==============================] - 0s 35us/step - loss: 0.0596 - acc: 0.9808 - val_loss: 0.1398 - val_acc: 0.9630\n",
      "Epoch 32/50\n",
      "7352/7352 [==============================] - 0s 32us/step - loss: 0.0563 - acc: 0.9814 - val_loss: 0.1475 - val_acc: 0.9603\n",
      "Epoch 33/50\n",
      "7352/7352 [==============================] - 0s 32us/step - loss: 0.0568 - acc: 0.9811 - val_loss: 0.1275 - val_acc: 0.9654\n",
      "Epoch 34/50\n",
      "7352/7352 [==============================] - 0s 36us/step - loss: 0.0539 - acc: 0.9819 - val_loss: 0.1455 - val_acc: 0.9623\n",
      "Epoch 35/50\n",
      "7352/7352 [==============================] - 0s 30us/step - loss: 0.0556 - acc: 0.9827 - val_loss: 0.1468 - val_acc: 0.9593\n",
      "Epoch 36/50\n",
      "7352/7352 [==============================] - 0s 38us/step - loss: 0.0558 - acc: 0.9814 - val_loss: 0.1378 - val_acc: 0.9617\n",
      "Epoch 37/50\n",
      "7352/7352 [==============================] - 0s 39us/step - loss: 0.0511 - acc: 0.9820 - val_loss: 0.1589 - val_acc: 0.9593\n",
      "Epoch 38/50\n",
      "7352/7352 [==============================] - 0s 38us/step - loss: 0.0565 - acc: 0.9829 - val_loss: 0.1361 - val_acc: 0.9640\n",
      "Epoch 39/50\n",
      "7352/7352 [==============================] - 0s 32us/step - loss: 0.0566 - acc: 0.9801 - val_loss: 0.1505 - val_acc: 0.9600\n",
      "Epoch 40/50\n",
      "7352/7352 [==============================] - 0s 37us/step - loss: 0.0535 - acc: 0.9833 - val_loss: 0.1462 - val_acc: 0.9613\n",
      "Epoch 41/50\n",
      "7352/7352 [==============================] - 0s 36us/step - loss: 0.0537 - acc: 0.9834 - val_loss: 0.1413 - val_acc: 0.9644\n",
      "Epoch 42/50\n",
      "7352/7352 [==============================] - 0s 39us/step - loss: 0.0511 - acc: 0.9831 - val_loss: 0.1367 - val_acc: 0.9627\n",
      "Epoch 43/50\n",
      "7352/7352 [==============================] - 0s 33us/step - loss: 0.0557 - acc: 0.9822 - val_loss: 0.1438 - val_acc: 0.9640\n",
      "Epoch 44/50\n",
      "7352/7352 [==============================] - 0s 35us/step - loss: 0.0513 - acc: 0.9820 - val_loss: 0.1405 - val_acc: 0.9644\n",
      "Epoch 45/50\n",
      "7352/7352 [==============================] - 0s 46us/step - loss: 0.0511 - acc: 0.9831 - val_loss: 0.1453 - val_acc: 0.9627\n",
      "Epoch 46/50\n",
      "7352/7352 [==============================] - 0s 35us/step - loss: 0.0524 - acc: 0.9807 - val_loss: 0.1376 - val_acc: 0.9627\n",
      "Epoch 47/50\n",
      "7352/7352 [==============================] - 0s 31us/step - loss: 0.0527 - acc: 0.9820 - val_loss: 0.1460 - val_acc: 0.9620\n",
      "Epoch 48/50\n",
      "7352/7352 [==============================] - 0s 37us/step - loss: 0.0511 - acc: 0.9822 - val_loss: 0.1412 - val_acc: 0.9623\n",
      "Epoch 49/50\n",
      "7352/7352 [==============================] - 0s 37us/step - loss: 0.0517 - acc: 0.9842 - val_loss: 0.1442 - val_acc: 0.9620\n",
      "Epoch 50/50\n",
      "7352/7352 [==============================] - 0s 38us/step - loss: 0.0506 - acc: 0.9825 - val_loss: 0.1439 - val_acc: 0.9617\n"
     ]
    }
   ],
   "source": [
    "model_history = model.fit(X_train,y_train,epochs=50,batch_size=128,validation_data=(X_test, y_test))"
   ]
  },
  {
   "cell_type": "code",
   "execution_count": 31,
   "metadata": {},
   "outputs": [
    {
     "name": "stdout",
     "output_type": "stream",
     "text": [
      "dict_keys(['val_loss', 'val_acc', 'loss', 'acc'])\n"
     ]
    }
   ],
   "source": [
    "print(model_history.history.keys())"
   ]
  },
  {
   "cell_type": "code",
   "execution_count": 32,
   "metadata": {},
   "outputs": [
    {
     "data": {
      "image/png": "[encoded data removed]",
      "text/plain": [
       "<Figure size 432x288 with 1 Axes>"
      ]
     },
     "metadata": {
      "needs_background": "light"
     },
     "output_type": "display_data"
    },
    {
     "data": {
      "image/png": "[encoded data removed]",
      "text/plain": [
       "<Figure size 432x288 with 1 Axes>"
      ]
     },
     "metadata": {
      "needs_background": "light"
     },
     "output_type": "display_data"
    }
   ],
   "source": [
    "plt.plot(model_history.history['acc'])\n",
    "plt.plot(model_history.history['val_acc'])\n",
    "plt.title('Accuracy Plot')\n",
    "plt.ylabel('Accuracy')\n",
    "plt.xlabel('Epoch')\n",
    "plt.legend(['Train', 'Validation'])\n",
    "plt.show() \n",
    "plt.plot(model_history.history['loss'])\n",
    "plt.plot(model_history.history['val_loss'])\n",
    "plt.title('Loss Function Plot')\n",
    "plt.ylabel('Loss')\n",
    "plt.xlabel('Epoch')\n",
    "plt.legend(['Train', 'Validation'])\n",
    "plt.show()"
   ]
  },
  {
   "cell_type": "markdown",
   "metadata": {},
   "source": [
    "#### Finding Best Parameters"
   ]
  },
  {
   "cell_type": "code",
   "execution_count": 33,
   "metadata": {},
   "outputs": [],
   "source": [
    "def model_def(h_activation, o_activation, kernel_init):\n",
    "    model=Sequential()\n",
    "    model.add(Dense(25, input_dim = 5, activation=h_activation, kernel_initializer=kernel_init))\n",
    "    model.add(Dense(15, activation=h_activation, kernel_initializer=kernel_init))\n",
    "    model.add(Dense(6, activation=o_activation, kernel_initializer=kernel_init))\n",
    "    return model "
   ]
  },
  {
   "cell_type": "markdown",
   "metadata": {},
   "source": [
    "#### Store the best Parameter"
   ]
  },
  {
   "cell_type": "code",
   "execution_count": 34,
   "metadata": {},
   "outputs": [],
   "source": [
    "best_params={}"
   ]
  },
  {
   "cell_type": "markdown",
   "metadata": {},
   "source": [
    "#### Finding the Best Learning Rate"
   ]
  },
  {
   "cell_type": "markdown",
   "metadata": {},
   "source": [
    "    Using logarithmic scale randomly generate values between 0.0001 to 1 "
   ]
  },
  {
   "cell_type": "code",
   "execution_count": 35,
   "metadata": {},
   "outputs": [
    {
     "data": {
      "text/plain": [
       "[0.1458,\n",
       " 0.3642,\n",
       " 0.0009,\n",
       " 0.8463,\n",
       " 0.0234,\n",
       " 0.0005,\n",
       " 0.142,\n",
       " 0.001,\n",
       " 0.0002,\n",
       " 0.0009,\n",
       " 0.0202,\n",
       " 0.039,\n",
       " 0.0596,\n",
       " 0.1285,\n",
       " 0.0326,\n",
       " 0.0092,\n",
       " 0.0056,\n",
       " 0.0293,\n",
       " 0.017,\n",
       " 0.0001]"
      ]
     },
     "execution_count": 35,
     "metadata": {},
     "output_type": "execute_result"
    }
   ],
   "source": [
    "NUM_LR = 20\n",
    "lrs = [round(i, 4) for i in list(10 ** (-4 * np.random.rand(NUM_LR)))]\n",
    "lrs"
   ]
  },
  {
   "cell_type": "code",
   "execution_count": 36,
   "metadata": {},
   "outputs": [
    {
     "name": "stdout",
     "output_type": "stream",
     "text": [
      "Train on 5881 samples, validate on 1471 samples\n",
      "Epoch 1/1\n",
      "50/50 [==============================] - 1s 22ms/step - loss: 1.0251 - acc: 0.6204 - val_loss: 0.3113 - val_acc: 0.8436\n",
      "Train on 5881 samples, validate on 1471 samples\n",
      "Epoch 1/1\n",
      "50/50 [==============================] - 1s 21ms/step - loss: 0.7312 - acc: 0.6684 - val_loss: 0.2165 - val_acc: 0.9089\n",
      "Train on 5881 samples, validate on 1471 samples\n",
      "Epoch 1/1\n",
      "50/50 [==============================] - 1s 24ms/step - loss: 1.7928 - acc: 0.1457 - val_loss: 1.7920 - val_acc: 0.1468\n",
      "Train on 5881 samples, validate on 1471 samples\n",
      "Epoch 1/1\n",
      "50/50 [==============================] - 1s 22ms/step - loss: 1.4827 - acc: 0.3767 - val_loss: 1.3089 - val_acc: 0.3936\n",
      "Train on 5881 samples, validate on 1471 samples\n",
      "Epoch 1/1\n",
      "50/50 [==============================] - 2s 38ms/step - loss: 1.7698 - acc: 0.3545 - val_loss: 1.7323 - val_acc: 0.4847\n",
      "Train on 5881 samples, validate on 1471 samples\n",
      "Epoch 1/1\n",
      "50/50 [==============================] - 1s 23ms/step - loss: 1.7932 - acc: 0.1457 - val_loss: 1.7927 - val_acc: 0.1468\n",
      "Train on 5881 samples, validate on 1471 samples\n",
      "Epoch 1/1\n",
      "50/50 [==============================] - 1s 25ms/step - loss: 1.0428 - acc: 0.6153 - val_loss: 0.3185 - val_acc: 0.8436\n",
      "Train on 5881 samples, validate on 1471 samples\n",
      "Epoch 1/1\n",
      "50/50 [==============================] - 1s 26ms/step - loss: 1.7928 - acc: 0.1457 - val_loss: 1.7919 - val_acc: 0.1468\n",
      "Train on 5881 samples, validate on 1471 samples\n",
      "Epoch 1/1\n",
      "50/50 [==============================] - 1s 26ms/step - loss: 1.7934 - acc: 0.1457 - val_loss: 1.7932 - val_acc: 0.1468\n",
      "Train on 5881 samples, validate on 1471 samples\n",
      "Epoch 1/1\n",
      "50/50 [==============================] - 1s 26ms/step - loss: 1.7928 - acc: 0.1457 - val_loss: 1.7920 - val_acc: 0.1468\n",
      "Train on 5881 samples, validate on 1471 samples\n",
      "Epoch 1/1\n",
      "50/50 [==============================] - 1s 30ms/step - loss: 1.7745 - acc: 0.3315 - val_loss: 1.7472 - val_acc: 0.4847\n",
      "Train on 5881 samples, validate on 1471 samples\n",
      "Epoch 1/1\n",
      "50/50 [==============================] - 1s 29ms/step - loss: 1.7292 - acc: 0.4364 - val_loss: 1.5661 - val_acc: 0.6057\n",
      "Train on 5881 samples, validate on 1471 samples\n",
      "Epoch 1/1\n",
      "50/50 [==============================] - 2s 30ms/step - loss: 1.6014 - acc: 0.4380 - val_loss: 1.0957 - val_acc: 0.4942\n",
      "Train on 5881 samples, validate on 1471 samples\n",
      "Epoch 1/1\n",
      "50/50 [==============================] - 2s 32ms/step - loss: 1.1104 - acc: 0.5941 - val_loss: 0.3524 - val_acc: 0.8334\n",
      "Train on 5881 samples, validate on 1471 samples\n",
      "Epoch 1/1\n",
      "50/50 [==============================] - 2s 31ms/step - loss: 1.7506 - acc: 0.3950 - val_loss: 1.6589 - val_acc: 0.5561\n",
      "Train on 5881 samples, validate on 1471 samples\n",
      "Epoch 1/1\n",
      "50/50 [==============================] - 2s 32ms/step - loss: 1.7861 - acc: 0.2442 - val_loss: 1.7783 - val_acc: 0.3283\n",
      "Train on 5881 samples, validate on 1471 samples\n",
      "Epoch 1/1\n",
      "50/50 [==============================] - 2s 35ms/step - loss: 1.7890 - acc: 0.1893 - val_loss: 1.7845 - val_acc: 0.3222\n",
      "Train on 5881 samples, validate on 1471 samples\n",
      "Epoch 1/1\n",
      "50/50 [==============================] - 2s 34ms/step - loss: 1.7587 - acc: 0.3835 - val_loss: 1.6918 - val_acc: 0.4847\n",
      "Train on 5881 samples, validate on 1471 samples\n",
      "Epoch 1/1\n",
      "50/50 [==============================] - 2s 35ms/step - loss: 1.7785 - acc: 0.3003 - val_loss: 1.7589 - val_acc: 0.4813\n",
      "Train on 5881 samples, validate on 1471 samples\n",
      "Epoch 1/1\n",
      "50/50 [==============================] - 2s 36ms/step - loss: 1.7935 - acc: 0.1457 - val_loss: 1.7933 - val_acc: 0.1468\n"
     ]
    }
   ],
   "source": [
    "hist_loss = []\n",
    "for lr in lrs:\n",
    "    np.random.seed(123)\n",
    "    lr_model = model_def(h_activation='relu', o_activation='softmax', kernel_init='normal')\n",
    "    # Compile model\n",
    "    sgd = optimizers.SGD(lr=lr)\n",
    "    lr_model.compile(loss='categorical_crossentropy', optimizer=sgd, metrics=['accuracy'])\n",
    "    # Fit the model\n",
    "    lr_model_history = lr_model.fit(X_train, y_train, validation_split=0.2, epochs=1,shuffle=True, steps_per_epoch=50, validation_steps=50)\n",
    "    hist_loss.append(lr_model_history.history['loss'])"
   ]
  },
  {
   "cell_type": "code",
   "execution_count": 37,
   "metadata": {},
   "outputs": [
    {
     "data": {
      "text/html": [
       "<div>\n",
       "<style scoped>\n",
       "    .dataframe tbody tr th:only-of-type {\n",
       "        vertical-align: middle;\n",
       "    }\n",
       "\n",
       "    .dataframe tbody tr th {\n",
       "        vertical-align: top;\n",
       "    }\n",
       "\n",
       "    .dataframe thead th {\n",
       "        text-align: right;\n",
       "    }\n",
       "</style>\n",
       "<table border=\"1\" class=\"dataframe\">\n",
       "  <thead>\n",
       "    <tr style=\"text-align: right;\">\n",
       "      <th></th>\n",
       "      <th>lr</th>\n",
       "      <th>loss</th>\n",
       "    </tr>\n",
       "  </thead>\n",
       "  <tbody>\n",
       "    <tr>\n",
       "      <th>0</th>\n",
       "      <td>0.3642</td>\n",
       "      <td>[0.7312372055649757]</td>\n",
       "    </tr>\n",
       "    <tr>\n",
       "      <th>1</th>\n",
       "      <td>0.1458</td>\n",
       "      <td>[1.0250588595867156]</td>\n",
       "    </tr>\n",
       "    <tr>\n",
       "      <th>2</th>\n",
       "      <td>0.142</td>\n",
       "      <td>[1.042813491821289]</td>\n",
       "    </tr>\n",
       "    <tr>\n",
       "      <th>3</th>\n",
       "      <td>0.1285</td>\n",
       "      <td>[1.110376359820366]</td>\n",
       "    </tr>\n",
       "    <tr>\n",
       "      <th>4</th>\n",
       "      <td>0.8463</td>\n",
       "      <td>[1.4827309930324555]</td>\n",
       "    </tr>\n",
       "    <tr>\n",
       "      <th>5</th>\n",
       "      <td>0.0596</td>\n",
       "      <td>[1.6013749313354493]</td>\n",
       "    </tr>\n",
       "    <tr>\n",
       "      <th>6</th>\n",
       "      <td>0.039</td>\n",
       "      <td>[1.7292368125915527]</td>\n",
       "    </tr>\n",
       "    <tr>\n",
       "      <th>7</th>\n",
       "      <td>0.0326</td>\n",
       "      <td>[1.7505913519859313]</td>\n",
       "    </tr>\n",
       "    <tr>\n",
       "      <th>8</th>\n",
       "      <td>0.0293</td>\n",
       "      <td>[1.7587352752685548]</td>\n",
       "    </tr>\n",
       "    <tr>\n",
       "      <th>9</th>\n",
       "      <td>0.0234</td>\n",
       "      <td>[1.769846546649933]</td>\n",
       "    </tr>\n",
       "    <tr>\n",
       "      <th>10</th>\n",
       "      <td>0.0202</td>\n",
       "      <td>[1.7745214533805846]</td>\n",
       "    </tr>\n",
       "    <tr>\n",
       "      <th>11</th>\n",
       "      <td>0.017</td>\n",
       "      <td>[1.778497998714447]</td>\n",
       "    </tr>\n",
       "    <tr>\n",
       "      <th>12</th>\n",
       "      <td>0.0092</td>\n",
       "      <td>[1.7860815906524659]</td>\n",
       "    </tr>\n",
       "    <tr>\n",
       "      <th>13</th>\n",
       "      <td>0.0056</td>\n",
       "      <td>[1.7890353870391846]</td>\n",
       "    </tr>\n",
       "    <tr>\n",
       "      <th>14</th>\n",
       "      <td>0.001</td>\n",
       "      <td>[1.7927528047561645]</td>\n",
       "    </tr>\n",
       "    <tr>\n",
       "      <th>15</th>\n",
       "      <td>0.0009</td>\n",
       "      <td>[1.7928336668014526]</td>\n",
       "    </tr>\n",
       "    <tr>\n",
       "      <th>16</th>\n",
       "      <td>0.0009</td>\n",
       "      <td>[1.7928336668014526]</td>\n",
       "    </tr>\n",
       "    <tr>\n",
       "      <th>17</th>\n",
       "      <td>0.0005</td>\n",
       "      <td>[1.7931573390960693]</td>\n",
       "    </tr>\n",
       "    <tr>\n",
       "      <th>18</th>\n",
       "      <td>0.0002</td>\n",
       "      <td>[1.793400239944458]</td>\n",
       "    </tr>\n",
       "    <tr>\n",
       "      <th>19</th>\n",
       "      <td>0.0001</td>\n",
       "      <td>[1.7934813284873963]</td>\n",
       "    </tr>\n",
       "  </tbody>\n",
       "</table>\n",
       "</div>"
      ],
      "text/plain": [
       "        lr                  loss\n",
       "0   0.3642  [0.7312372055649757]\n",
       "1   0.1458  [1.0250588595867156]\n",
       "2    0.142   [1.042813491821289]\n",
       "3   0.1285   [1.110376359820366]\n",
       "4   0.8463  [1.4827309930324555]\n",
       "5   0.0596  [1.6013749313354493]\n",
       "6    0.039  [1.7292368125915527]\n",
       "7   0.0326  [1.7505913519859313]\n",
       "8   0.0293  [1.7587352752685548]\n",
       "9   0.0234   [1.769846546649933]\n",
       "10  0.0202  [1.7745214533805846]\n",
       "11   0.017   [1.778497998714447]\n",
       "12  0.0092  [1.7860815906524659]\n",
       "13  0.0056  [1.7890353870391846]\n",
       "14   0.001  [1.7927528047561645]\n",
       "15  0.0009  [1.7928336668014526]\n",
       "16  0.0009  [1.7928336668014526]\n",
       "17  0.0005  [1.7931573390960693]\n",
       "18  0.0002   [1.793400239944458]\n",
       "19  0.0001  [1.7934813284873963]"
      ]
     },
     "execution_count": 37,
     "metadata": {},
     "output_type": "execute_result"
    }
   ],
   "source": [
    "# Get the lr and loss Dataframe\n",
    "loss_lr = pd.DataFrame([lrs,hist_loss]).T  \n",
    "#Give the coloumn names\n",
    "loss_lr.columns=['lr', 'loss']\n",
    "#Sort the values and reset the index\n",
    "loss_lr=loss_lr.sort_values('loss').reset_index().drop('index',axis=1)\n",
    "loss_lr"
   ]
  },
  {
   "cell_type": "code",
   "execution_count": 38,
   "metadata": {},
   "outputs": [],
   "source": [
    "#pick the top lr\n",
    "best_params['best_learning_rate'] = loss_lr.loc[:,'lr'][0]"
   ]
  },
  {
   "cell_type": "markdown",
   "metadata": {},
   "source": [
    "#### Build Model With Best Learning Rate"
   ]
  },
  {
   "cell_type": "code",
   "execution_count": 39,
   "metadata": {},
   "outputs": [],
   "source": [
    "bst_lr_model = model_def(h_activation='relu', o_activation='softmax', kernel_init='normal')"
   ]
  },
  {
   "cell_type": "code",
   "execution_count": 40,
   "metadata": {},
   "outputs": [
    {
     "name": "stdout",
     "output_type": "stream",
     "text": [
      "_________________________________________________________________\n",
      "Layer (type)                 Output Shape              Param #   \n",
      "=================================================================\n",
      "dense_64 (Dense)             (None, 25)                150       \n",
      "_________________________________________________________________\n",
      "dense_65 (Dense)             (None, 15)                390       \n",
      "_________________________________________________________________\n",
      "dense_66 (Dense)             (None, 6)                 96        \n",
      "=================================================================\n",
      "Total params: 636\n",
      "Trainable params: 636\n",
      "Non-trainable params: 0\n",
      "_________________________________________________________________\n"
     ]
    }
   ],
   "source": [
    "bst_lr_model.summary()"
   ]
  },
  {
   "cell_type": "code",
   "execution_count": 41,
   "metadata": {},
   "outputs": [],
   "source": [
    "sgd = optimizers.SGD(lr=best_params['best_learning_rate'])\n",
    "bst_lr_model.compile(loss='categorical_crossentropy', optimizer=sgd, metrics=['accuracy'])"
   ]
  },
  {
   "cell_type": "code",
   "execution_count": 42,
   "metadata": {},
   "outputs": [
    {
     "name": "stdout",
     "output_type": "stream",
     "text": [
      "Train on 5881 samples, validate on 1471 samples\n",
      "Epoch 1/50\n",
      "5881/5881 [==============================] - 1s 252us/step - loss: 0.4557 - acc: 0.8099 - val_loss: 0.0369 - val_acc: 0.9884\n",
      "Epoch 2/50\n",
      "5881/5881 [==============================] - 0s 31us/step - loss: 0.0579 - acc: 0.9808 - val_loss: 0.0311 - val_acc: 0.9878\n",
      "Epoch 3/50\n",
      "5881/5881 [==============================] - 0s 31us/step - loss: 0.0502 - acc: 0.9813 - val_loss: 0.0376 - val_acc: 0.9864\n",
      "Epoch 4/50\n",
      "5881/5881 [==============================] - 0s 31us/step - loss: 0.0468 - acc: 0.9820 - val_loss: 0.0311 - val_acc: 0.9925\n",
      "Epoch 5/50\n",
      "5881/5881 [==============================] - 0s 31us/step - loss: 0.0439 - acc: 0.9832 - val_loss: 0.0682 - val_acc: 0.9728\n",
      "Epoch 6/50\n",
      "5881/5881 [==============================] - 0s 32us/step - loss: 0.0436 - acc: 0.9833 - val_loss: 0.0279 - val_acc: 0.9918\n",
      "Epoch 7/50\n",
      "5881/5881 [==============================] - 0s 33us/step - loss: 0.0449 - acc: 0.9835 - val_loss: 0.0351 - val_acc: 0.9871\n",
      "Epoch 8/50\n",
      "5881/5881 [==============================] - 0s 31us/step - loss: 0.0392 - acc: 0.9852 - val_loss: 0.0281 - val_acc: 0.9905\n",
      "Epoch 9/50\n",
      "5881/5881 [==============================] - 0s 32us/step - loss: 0.0409 - acc: 0.9818 - val_loss: 0.0526 - val_acc: 0.9789\n",
      "Epoch 10/50\n",
      "5881/5881 [==============================] - 0s 31us/step - loss: 0.0394 - acc: 0.9852 - val_loss: 0.0436 - val_acc: 0.9844\n",
      "Epoch 11/50\n",
      "5881/5881 [==============================] - 0s 33us/step - loss: 0.0381 - acc: 0.9850 - val_loss: 0.0266 - val_acc: 0.9898\n",
      "Epoch 12/50\n",
      "5881/5881 [==============================] - 0s 31us/step - loss: 0.0390 - acc: 0.9844 - val_loss: 0.0284 - val_acc: 0.9898\n",
      "Epoch 13/50\n",
      "5881/5881 [==============================] - 0s 32us/step - loss: 0.0384 - acc: 0.9838 - val_loss: 0.0313 - val_acc: 0.9898\n",
      "Epoch 14/50\n",
      "5881/5881 [==============================] - 0s 33us/step - loss: 0.0396 - acc: 0.9825 - val_loss: 0.0286 - val_acc: 0.9898\n",
      "Epoch 15/50\n",
      "5881/5881 [==============================] - 0s 32us/step - loss: 0.0368 - acc: 0.9845 - val_loss: 0.0277 - val_acc: 0.9905\n",
      "Epoch 16/50\n",
      "5881/5881 [==============================] - 0s 36us/step - loss: 0.0373 - acc: 0.9842 - val_loss: 0.0294 - val_acc: 0.9898\n",
      "Epoch 17/50\n",
      "5881/5881 [==============================] - 0s 32us/step - loss: 0.0389 - acc: 0.9828 - val_loss: 0.0618 - val_acc: 0.9769\n",
      "Epoch 18/50\n",
      "5881/5881 [==============================] - 0s 35us/step - loss: 0.0385 - acc: 0.9859 - val_loss: 0.0255 - val_acc: 0.9912\n",
      "Epoch 19/50\n",
      "5881/5881 [==============================] - 0s 32us/step - loss: 0.0366 - acc: 0.9854 - val_loss: 0.0367 - val_acc: 0.9864\n",
      "Epoch 20/50\n",
      "5881/5881 [==============================] - 0s 34us/step - loss: 0.0360 - acc: 0.9864 - val_loss: 0.0265 - val_acc: 0.9905\n",
      "Epoch 21/50\n",
      "5881/5881 [==============================] - 0s 35us/step - loss: 0.0376 - acc: 0.9855 - val_loss: 0.0275 - val_acc: 0.9898\n",
      "Epoch 22/50\n",
      "5881/5881 [==============================] - 0s 35us/step - loss: 0.0392 - acc: 0.9844 - val_loss: 0.0256 - val_acc: 0.9912\n",
      "Epoch 23/50\n",
      "5881/5881 [==============================] - 0s 31us/step - loss: 0.0364 - acc: 0.9864 - val_loss: 0.0281 - val_acc: 0.9898\n",
      "Epoch 24/50\n",
      "5881/5881 [==============================] - 0s 40us/step - loss: 0.0375 - acc: 0.9835 - val_loss: 0.0286 - val_acc: 0.9898\n",
      "Epoch 25/50\n",
      "5881/5881 [==============================] - 0s 32us/step - loss: 0.0358 - acc: 0.9854 - val_loss: 0.0326 - val_acc: 0.9864\n",
      "Epoch 26/50\n",
      "5881/5881 [==============================] - 0s 38us/step - loss: 0.0364 - acc: 0.9849 - val_loss: 0.0263 - val_acc: 0.9912\n",
      "Epoch 27/50\n",
      "5881/5881 [==============================] - 0s 33us/step - loss: 0.0371 - acc: 0.9854 - val_loss: 0.0286 - val_acc: 0.9905\n",
      "Epoch 28/50\n",
      "5881/5881 [==============================] - 0s 34us/step - loss: 0.0376 - acc: 0.9852 - val_loss: 0.0352 - val_acc: 0.9857\n",
      "Epoch 29/50\n",
      "5881/5881 [==============================] - 0s 35us/step - loss: 0.0350 - acc: 0.9847 - val_loss: 0.0476 - val_acc: 0.9844\n",
      "Epoch 30/50\n",
      "5881/5881 [==============================] - 0s 35us/step - loss: 0.0367 - acc: 0.9859 - val_loss: 0.0274 - val_acc: 0.9891\n",
      "Epoch 31/50\n",
      "5881/5881 [==============================] - 0s 32us/step - loss: 0.0358 - acc: 0.9859 - val_loss: 0.0372 - val_acc: 0.9857\n",
      "Epoch 32/50\n",
      "5881/5881 [==============================] - 0s 35us/step - loss: 0.0363 - acc: 0.9849 - val_loss: 0.0266 - val_acc: 0.9905\n",
      "Epoch 33/50\n",
      "5881/5881 [==============================] - 0s 33us/step - loss: 0.0370 - acc: 0.9847 - val_loss: 0.0274 - val_acc: 0.9898\n",
      "Epoch 34/50\n",
      "5881/5881 [==============================] - 0s 32us/step - loss: 0.0352 - acc: 0.9850 - val_loss: 0.0267 - val_acc: 0.9912\n",
      "Epoch 35/50\n",
      "5881/5881 [==============================] - 0s 31us/step - loss: 0.0359 - acc: 0.9859 - val_loss: 0.0297 - val_acc: 0.9878\n",
      "Epoch 36/50\n",
      "5881/5881 [==============================] - 0s 33us/step - loss: 0.0362 - acc: 0.9852 - val_loss: 0.0323 - val_acc: 0.9864\n",
      "Epoch 37/50\n",
      "5881/5881 [==============================] - 0s 33us/step - loss: 0.0353 - acc: 0.9852 - val_loss: 0.0291 - val_acc: 0.9905\n",
      "Epoch 38/50\n",
      "5881/5881 [==============================] - 0s 33us/step - loss: 0.0363 - acc: 0.9849 - val_loss: 0.0315 - val_acc: 0.9871\n",
      "Epoch 39/50\n",
      "5881/5881 [==============================] - 0s 32us/step - loss: 0.0352 - acc: 0.9855 - val_loss: 0.0285 - val_acc: 0.9905\n",
      "Epoch 40/50\n",
      "5881/5881 [==============================] - 0s 32us/step - loss: 0.0346 - acc: 0.9867 - val_loss: 0.0284 - val_acc: 0.9871\n",
      "Epoch 41/50\n",
      "5881/5881 [==============================] - 0s 32us/step - loss: 0.0353 - acc: 0.9866 - val_loss: 0.0281 - val_acc: 0.9878\n",
      "Epoch 42/50\n",
      "5881/5881 [==============================] - 0s 32us/step - loss: 0.0340 - acc: 0.9861 - val_loss: 0.0273 - val_acc: 0.9898\n",
      "Epoch 43/50\n",
      "5881/5881 [==============================] - 0s 31us/step - loss: 0.0356 - acc: 0.9852 - val_loss: 0.0277 - val_acc: 0.9905\n",
      "Epoch 44/50\n",
      "5881/5881 [==============================] - 0s 32us/step - loss: 0.0339 - acc: 0.9864 - val_loss: 0.0480 - val_acc: 0.9844\n",
      "Epoch 45/50\n",
      "5881/5881 [==============================] - 0s 31us/step - loss: 0.0360 - acc: 0.9845 - val_loss: 0.0309 - val_acc: 0.9878\n",
      "Epoch 46/50\n",
      "5881/5881 [==============================] - 0s 32us/step - loss: 0.0339 - acc: 0.9849 - val_loss: 0.0276 - val_acc: 0.9891\n",
      "Epoch 47/50\n",
      "5881/5881 [==============================] - 0s 32us/step - loss: 0.0352 - acc: 0.9861 - val_loss: 0.0278 - val_acc: 0.9884\n",
      "Epoch 48/50\n",
      "5881/5881 [==============================] - 0s 32us/step - loss: 0.0340 - acc: 0.9859 - val_loss: 0.0280 - val_acc: 0.9884\n",
      "Epoch 49/50\n",
      "5881/5881 [==============================] - 0s 32us/step - loss: 0.0351 - acc: 0.9855 - val_loss: 0.0463 - val_acc: 0.9837\n",
      "Epoch 50/50\n",
      "5881/5881 [==============================] - 0s 31us/step - loss: 0.0351 - acc: 0.9852 - val_loss: 0.0327 - val_acc: 0.9871\n"
     ]
    }
   ],
   "source": [
    "bst_lr_model_history = bst_lr_model.fit(X_train, y_train, epochs=50, batch_size=64, validation_split=0.2, shuffle=True)"
   ]
  },
  {
   "cell_type": "code",
   "execution_count": 43,
   "metadata": {},
   "outputs": [
    {
     "name": "stdout",
     "output_type": "stream",
     "text": [
      "dict_keys(['val_loss', 'val_acc', 'loss', 'acc'])\n"
     ]
    }
   ],
   "source": [
    "print(bst_lr_model_history.history.keys())"
   ]
  },
  {
   "cell_type": "code",
   "execution_count": 44,
   "metadata": {},
   "outputs": [
    {
     "data": {
      "image/png": "[encoded data removed]",
      "text/plain": [
       "<Figure size 432x288 with 1 Axes>"
      ]
     },
     "metadata": {
      "needs_background": "light"
     },
     "output_type": "display_data"
    },
    {
     "data": {
      "image/png": "[encoded data removed]",
      "text/plain": [
       "<Figure size 432x288 with 1 Axes>"
      ]
     },
     "metadata": {
      "needs_background": "light"
     },
     "output_type": "display_data"
    }
   ],
   "source": [
    "plt.plot(bst_lr_model_history.history['acc'])\n",
    "plt.plot(bst_lr_model_history.history['val_acc'])\n",
    "plt.title('Accuracy Plot')\n",
    "plt.ylabel('Accuracy')\n",
    "plt.xlabel('Epoch')\n",
    "plt.legend(['Train', 'Validation'])\n",
    "plt.show() \n",
    "plt.plot(bst_lr_model_history.history['loss'])\n",
    "plt.plot(bst_lr_model_history.history['val_loss'])\n",
    "plt.title('Loss Function Plot')\n",
    "plt.ylabel('Loss')\n",
    "plt.xlabel('Epoch')\n",
    "plt.legend(['Train', 'Validation'])\n",
    "plt.show()"
   ]
  },
  {
   "cell_type": "code",
   "execution_count": null,
   "metadata": {},
   "outputs": [],
   "source": []
  }
 ],
 "metadata": {
  "kernelspec": {
   "display_name": "Python 3",
   "language": "python",
   "name": "python3"
  },
  "language_info": {
   "codemirror_mode": {
    "name": "ipython",
    "version": 3
   },
   "file_extension": ".py",
   "mimetype": "text/x-python",
   "name": "python",
   "nbconvert_exporter": "python",
   "pygments_lexer": "ipython3",
   "version": "3.6.9"
  }
 },
 "nbformat": 4,
 "nbformat_minor": 2
}
